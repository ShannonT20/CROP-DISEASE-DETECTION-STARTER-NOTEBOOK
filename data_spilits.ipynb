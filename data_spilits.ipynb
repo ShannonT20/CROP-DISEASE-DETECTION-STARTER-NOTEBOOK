{
 "cells": [
  {
   "cell_type": "code",
   "execution_count": 4,
   "metadata": {},
   "outputs": [
    {
     "name": "stdout",
     "output_type": "stream",
     "text": [
      "✅ Dataset split into train, val, and test sets.\n"
     ]
    }
   ],
   "source": [
    "import os\n",
    "import random\n",
    "import shutil\n",
    "from pathlib import Path\n",
    "\n",
    "# Set random seed for reproducibility\n",
    "random.seed(42)\n",
    "\n",
    "# Define source and destination directories\n",
    "SOURCE_DIR = 'crop pictures/data'\n",
    "DEST_DIR = 'crop pictures'\n",
    "\n",
    "# Define split ratios\n",
    "train_ratio = 0.7\n",
    "val_ratio = 0.15\n",
    "test_ratio = 0.15\n",
    "\n",
    "# Ensure total = 1.0\n",
    "assert abs((train_ratio + val_ratio + test_ratio) - 1.0) < 1e-6, \"Ratios must sum to 1.0\"\n",
    "\n",
    "# Get class names (folder names)\n",
    "classes = [d for d in os.listdir(SOURCE_DIR) if os.path.isdir(os.path.join(SOURCE_DIR, d))]\n",
    "\n",
    "# Create output directory structure\n",
    "for split in ['train', 'val', 'test']:\n",
    "    for class_name in classes:\n",
    "        Path(os.path.join(DEST_DIR, split, class_name)).mkdir(parents=True, exist_ok=True)\n",
    "\n",
    "# Process each class\n",
    "for class_name in classes:\n",
    "    class_path = os.path.join(SOURCE_DIR, class_name)\n",
    "    images = os.listdir(class_path)\n",
    "    images = [img for img in images if img.lower().endswith(('.jpg', '.jpeg', '.png'))]\n",
    "    random.shuffle(images)\n",
    "\n",
    "    total = len(images)\n",
    "    train_end = int(total * train_ratio)\n",
    "    val_end = train_end + int(total * val_ratio)\n",
    "\n",
    "    train_imgs = images[:train_end]\n",
    "    val_imgs = images[train_end:val_end]\n",
    "    test_imgs = images[val_end:]\n",
    "\n",
    "    # Copy files\n",
    "    for img_name in train_imgs:\n",
    "        shutil.copy(os.path.join(class_path, img_name), os.path.join(DEST_DIR, 'train', class_name, img_name))\n",
    "    for img_name in val_imgs:\n",
    "        shutil.copy(os.path.join(class_path, img_name), os.path.join(DEST_DIR, 'val', class_name, img_name))\n",
    "    for img_name in test_imgs:\n",
    "        shutil.copy(os.path.join(class_path, img_name), os.path.join(DEST_DIR, 'test', class_name, img_name))\n",
    "\n",
    "print(\"✅ Dataset split into train, val, and test sets.\")\n"
   ]
  },
  {
   "cell_type": "code",
   "execution_count": null,
   "metadata": {},
   "outputs": [],
   "source": []
  }
 ],
 "metadata": {
  "kernelspec": {
   "display_name": "Python 3",
   "language": "python",
   "name": "python3"
  },
  "language_info": {
   "codemirror_mode": {
    "name": "ipython",
    "version": 3
   },
   "file_extension": ".py",
   "mimetype": "text/x-python",
   "name": "python",
   "nbconvert_exporter": "python",
   "pygments_lexer": "ipython3",
   "version": "3.11.0"
  }
 },
 "nbformat": 4,
 "nbformat_minor": 2
}
