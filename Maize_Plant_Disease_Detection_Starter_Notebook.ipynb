{
 "cells": [
  {
   "cell_type": "markdown",
   "metadata": {},
   "source": [
    "# Maize Plant Disease Detection Starter Notebook"
   ]
  },
  {
   "cell_type": "markdown",
   "metadata": {},
   "source": [
    "# AI for Crop Health - Diagnosing Maize Plant Diseases in Zimbabwe Using Deep Learning\n",
    "\n",
    "## 📌 Info Page\n",
    "\n",
    "### About the Challenge\n",
    "Maize is the staple crop that sustains millions of Zimbabweans, underpinning both food security and livelihoods across rural and urban communities. Yet, Zimbabwe’s maize production is persistently threatened by several devastating leaf diseases—primarily **Common Rust**, **Gray Leaf Spot**, and **Blight**—which cause significant yield reductions and economic losses.\n",
    "\n",
    "These diseases are widespread across Zimbabwe’s diverse agro-ecological zones, including:\n",
    "- High-rainfall areas like **Mashonaland East** and **Manicaland**.\n",
    "- Drier regions like **Masvingo**.\n",
    "- The central **Midlands**.\n",
    "\n",
    "Their impact is exacerbated by limited access to timely and accurate disease diagnostics, especially for smallholder farmers who form the backbone of Zimbabwe’s agriculture.\n",
    "\n",
    "### Your Task\n",
    "Develop **deep learning models** that can accurately detect and classify maize diseases from leaf images. Leveraging AI for early and precise disease identification can transform farming practices by:\n",
    "- Providing farmers with **real-time, accessible tools** to identify diseases before they spread widely.\n",
    "- Reducing reliance on **manual inspection**, which is often subjective and slow.\n",
    "- Enabling **targeted interventions** to minimize crop loss and reduce pesticide overuse.\n",
    "- Contributing to **improved food security** and agricultural sustainability in Zimbabwe.\n",
    "\n",
    "### Dataset Overview\n",
    "The dataset includes images of maize leaves categorized into:\n",
    "1. **Common Rust**\n",
    "2. **Gray Leaf Spot**\n",
    "3. **Blight**\n",
    "4. **Healthy**\n",
    "\n",
    "Your challenge is to design and train models robust to diverse field conditions (e.g., varying lighting, leaf angles, and disease severity).\n",
    "\n",
    "### Impact\n",
    "By addressing this challenge, you will contribute to a **high-impact solution** with direct applications in Zimbabwe’s farming communities and beyond, driving the adoption of AI-powered precision agriculture in sub-Saharan Africa.\n",
    "\n",
    "---\n",
    "\n",
    "## 📊 Evaluation\n",
    "- **Metrics**: Accuracy, Precision, Recall, F1-Score.\n",
    "- **Leaderboard**: Based on performance on the evaluation set.\n",
    "# \n",
    "### 🏆 Prizes\n",
    " - **Top 3 performers** will receive:\n",
    "   - Official certification of achievement\n",
    "   - Recognition on our community platforms\n",
    "   - Priority consideration for future opportunities with:\n",
    "     - The Deep Learning Indaba X Zimbabwe community\n",
    "     - Agricultural sector partners\n",
    "\n",
    "## ⏳ Timeline\n",
    "- **Start Date**: [Insert Date]\n",
    "- **Submission Deadline**: [Insert Date]\n",
    "- **Results Announcement**: [Insert Date]\n",
    "\n",
    "## 📜 Rules\n",
    "- This challenge is **only open to the Deep Learning Indaba X Zimbabwe Community**.\n",
    "- Teams must adhere to the **code of conduct** and **submission guidelines**.\n",
    "\n",
    "---\n",
    "\n",
    "## 📂 Data Page\n",
    "\n",
    "### About the Data\n",
    "The dataset contains labelled images of crop leaves, categorized into four classes:\n",
    "\n",
    "| Class          | Label | Number of Images |\n",
    "|----------------|-------|------------------|\n",
    "| Common Rust    | 0     | 1,306            |\n",
    "| Gray Leaf Spot | 1     | 574              |\n",
    "| Blight         | 2     | 1,146            |\n",
    "| Healthy        | 3     | 1,162            |\n",
    "\n",
    "\n",
    "\n"
   ]
  },
  {
   "cell_type": "markdown",
   "metadata": {},
   "source": [
    "# 🌱 Starter Notebook:  Maize Plant Disease Detection \n",
    "\n",
    "## 📌 Overview\n",
    "This notebook serves as a **starter template** for the *AI for Crop Health* hackathon challenge. It provides a foundational workflow for loading, preprocessing, and analyzing the maize disease dataset, as well as training a baseline deep learning model. Use this as a jumping-off point to build and refine your solution.\n",
    "\n",
    "---\n",
    "\n",
    "## 🎯 Objectives\n",
    "By the end of this notebook, you will:\n",
    "1. **Explore the dataset**: Visualize sample images and understand class distributions.\n",
    "2. **Preprocess data**: Resize, normalize, and augment images for model training.\n",
    "3. **Train a baseline model**: Implement a simple CNN or transfer learning model.\n",
    "4. **Evaluate performance**: Calculate metrics (accuracy, F1-score) and identify areas for improvement.\n",
    "\n",
    "---"
   ]
  },
  {
   "cell_type": "markdown",
   "metadata": {},
   "source": [
    "## **Importing Libraries**"
   ]
  },
  {
   "cell_type": "code",
   "execution_count": 43,
   "metadata": {},
   "outputs": [],
   "source": [
    "import os\n",
    "\n",
    "import pandas as pd\n",
    "import matplotlib\n",
    "import matplotlib.pyplot as plt\n",
    "import numpy as np\n",
    "import PIL\n",
    "import torch\n",
    "import torch.nn as nn\n",
    "import torch.optim as optim\n",
    "import torchinfo\n",
    "import torchvision\n",
    "from sklearn.metrics import ConfusionMatrixDisplay, confusion_matrix\n",
    "from torch.utils.data import DataLoader, random_split\n",
    "from torchinfo import summary\n",
    "from torchvision import datasets, transforms\n",
    "from tqdm import tqdm"
   ]
  },
  {
   "cell_type": "code",
   "execution_count": 44,
   "metadata": {},
   "outputs": [],
   "source": [
    "if torch.cuda.is_available():\n",
    "    device = \"cuda\"\n",
    "elif torch.backends.mps.is_available():\n",
    "    device = \"mps\"\n",
    "else:\n",
    "    device = \"cpu\"\n"
   ]
  },
  {
   "cell_type": "markdown",
   "metadata": {},
   "source": [
    "### Exploring and Preparing Our Data"
   ]
  },
  {
   "cell_type": "code",
   "execution_count": 45,
   "metadata": {},
   "outputs": [
    {
     "name": "stdout",
     "output_type": "stream",
     "text": [
      "Data Directory: crop pictures\\train\n",
      "Data Directory: crop pictures\\test\n"
     ]
    }
   ],
   "source": [
    "train_data_dir = os.path.join(\"crop pictures\", \"train\")\n",
    "test_data_dir = os.path.join(\"crop pictures\", \"test\")\n",
    "print(\"Data Directory:\", train_data_dir)\n",
    "print(\"Data Directory:\", test_data_dir)"
   ]
  },
  {
   "cell_type": "code",
   "execution_count": 46,
   "metadata": {},
   "outputs": [
    {
     "name": "stdout",
     "output_type": "stream",
     "text": [
      "List of classes: ['Blight', 'Common_Rust', 'Gray_Leaf_Spot', 'Healthy']\n"
     ]
    }
   ],
   "source": [
    "#Create and print a list of class names in our directory\n",
    "classes = os.listdir(train_data_dir)\n",
    "\n",
    "print(\"List of classes:\", classes)\n"
   ]
  },
  {
   "cell_type": "code",
   "execution_count": 47,
   "metadata": {},
   "outputs": [],
   "source": [
    "# Convert grayscale images to RGB format since our model expects 3-channel input\n",
    "# Grayscale images only have 1 channel, which would cause dimension mismatch errors\n",
    "# This ensures all images have consistent 3-channel RGB format for model training\n",
    "def convert_to_rgb(img):\n",
    "    \"\"\"Convert PIL image to RGB format if it isn't already.\n",
    "    \n",
    "    Args:\n",
    "        img: PIL Image object\n",
    "    \n",
    "    Returns:\n",
    "        PIL Image object in RGB format\n",
    "    \"\"\"\n",
    "    if img.mode != \"RGB\":\n",
    "        img = img.convert(\"RGB\")\n",
    "    return img"
   ]
  },
  {
   "cell_type": "code",
   "execution_count": 48,
   "metadata": {},
   "outputs": [],
   "source": [
    "def get_mean_std(loader):\n",
    "    \"\"\"Computes the mean and standard deviation of image data.\n",
    "\n",
    "    Input: a `DataLoader` producing tensors of shape [batch_size, channels, pixels_x, pixels_y]\n",
    "    Output: the mean of each channel as a tensor, the standard deviation of each channel as a tensor\n",
    "            formatted as a tuple (means[channels], std[channels])\"\"\"\n",
    "\n",
    "    channels_sum, channels_squared_sum, num_batches = 0, 0, 0\n",
    "    for data, _ in tqdm(loader, desc=\"Computing mean and std\", leave=False):\n",
    "        channels_sum += torch.mean(data, dim=[0, 2, 3])\n",
    "        channels_squared_sum += torch.mean(data**2, dim=[0, 2, 3])\n",
    "        num_batches += 1\n",
    "    mean = channels_sum / num_batches\n",
    "    std = (channels_squared_sum / num_batches - mean**2) ** 0.5\n",
    "\n",
    "    return mean, std"
   ]
  },
  {
   "cell_type": "code",
   "execution_count": 49,
   "metadata": {},
   "outputs": [
    {
     "name": "stderr",
     "output_type": "stream",
     "text": [
      "Computing mean and std:   0%|          | 0/92 [00:00<?, ?it/s]"
     ]
    },
    {
     "name": "stderr",
     "output_type": "stream",
     "text": [
      "                                                                       "
     ]
    },
    {
     "name": "stdout",
     "output_type": "stream",
     "text": [
      "<class 'torchvision.transforms.transforms.Compose'>\n",
      "-----------------\n",
      "Compose(\n",
      "    Lambda()\n",
      "    Resize(size=(224, 224), interpolation=bilinear, max_size=None, antialias=True)\n",
      "    ToTensor()\n",
      "    Normalize(mean=tensor([0.4393, 0.4999, 0.3765]), std=tensor([0.2098, 0.2152, 0.2099]))\n",
      ")\n"
     ]
    },
    {
     "name": "stderr",
     "output_type": "stream",
     "text": [
      "\r"
     ]
    }
   ],
   "source": [
    "# Resize images to 224x224 to ensure consistent input dimensions for the model (common size for CNNs)\n",
    "# Convert images to tensors to enable GPU acceleration and matrix operations\n",
    "# Normalize each color channel separately (mean=[0.485, 0.456, 0.406], std=[0.229, 0.224, 0.225]) \n",
    "# to standardize pixel values across the dataset (values based on ImageNet statistics)\n",
    "# First create a basic transform to get images to tensor format for mean/std calculation\n",
    "temp_transform = transforms.Compose([\n",
    "    transforms.Lambda(convert_to_rgb),\n",
    "    transforms.Resize((224, 224)),\n",
    "    transforms.ToTensor()\n",
    "])\n",
    "\n",
    "# Create temporary dataset and loader for mean/std calculation\n",
    "temp_dataset = datasets.ImageFolder(train_data_dir, transform=temp_transform)\n",
    "temp_loader = DataLoader(temp_dataset, batch_size=32, shuffle=False)\n",
    "\n",
    "# Calculate dataset statistics\n",
    "mean, std = get_mean_std(temp_loader)\n",
    "\n",
    "# Final transform with calculated normalization values\n",
    "transform_normalized = transforms.Compose([\n",
    "    transforms.Lambda(convert_to_rgb),  # First convert to RGB if needed\n",
    "    transforms.Resize((224, 224)),      # Resize to 224x224\n",
    "    transforms.ToTensor(),              # Convert to tensor\n",
    "    transforms.Normalize(               # Normalize with calculated stats\n",
    "        mean=mean,\n",
    "        std=std\n",
    "    )\n",
    "])\n",
    "\n",
    "\n",
    "print(type(transform_normalized))\n",
    "print(\"-----------------\")\n",
    "print(transform_normalized)"
   ]
  },
  {
   "cell_type": "code",
   "execution_count": 50,
   "metadata": {},
   "outputs": [
    {
     "name": "stdout",
     "output_type": "stream",
     "text": [
      "Length of training dataset: 2930\n",
      "Length of test dataset: 632\n"
     ]
    }
   ],
   "source": [
    "#We make a normalizes dataset using ImageFolder from datasets and print lenght\n",
    "training_dataset = datasets.ImageFolder(train_data_dir,transform_normalized)\n",
    "test_dataset = datasets.ImageFolder(test_data_dir,transform_normalized)\n",
    "print('Length of training dataset:', len(training_dataset))\n",
    "print('Length of test dataset:', len(test_dataset))"
   ]
  },
  {
   "cell_type": "code",
   "execution_count": 51,
   "metadata": {},
   "outputs": [
    {
     "name": "stdout",
     "output_type": "stream",
     "text": [
      "Computing class counts for training data...\n",
      "Training data counts:\n",
      "Blight            802\n",
      "Common_Rust       914\n",
      "Gray_Leaf_Spot    401\n",
      "Healthy           813\n",
      "dtype: int64\n",
      "\n",
      "Computing class counts for test data...\n",
      "Test data counts:\n",
      "Blight            173\n",
      "Common_Rust       197\n",
      "Gray_Leaf_Spot     87\n",
      "Healthy           175\n",
      "dtype: int64\n"
     ]
    },
    {
     "data": {
      "image/png": "[encoded data removed]",
      "text/plain": [
       "<Figure size 1800x600 with 2 Axes>"
      ]
     },
     "metadata": {},
     "output_type": "display_data"
    }
   ],
   "source": [
    "# Define function to count class instances\n",
    "def class_counts(dataset):\n",
    "    counts = {}\n",
    "    for _, label in dataset:\n",
    "        class_name = dataset.classes[label]\n",
    "        counts[class_name] = counts.get(class_name, 0) + 1\n",
    "    return pd.Series(counts)\n",
    "\n",
    "# Calculate class counts for both training and test datasets\n",
    "print(\"Computing class counts for training data...\")\n",
    "train_counts = class_counts(training_dataset)\n",
    "print(\"Training data counts:\")\n",
    "print(train_counts)\n",
    "print(\"\\nComputing class counts for test data...\")\n",
    "test_counts = class_counts(test_dataset)\n",
    "print(\"Test data counts:\")\n",
    "print(test_counts)\n",
    "\n",
    "# Create figure with subplots\n",
    "plt.figure(figsize=(18, 6))\n",
    "\n",
    "# Plot training data distribution\n",
    "plt.subplot(1, 2, 1)\n",
    "ax1 = train_counts.sort_values().plot(\n",
    "    kind='bar',\n",
    "    color='lightgreen',\n",
    "    edgecolor='black',\n",
    "    width=0.8\n",
    ")\n",
    "for p in ax1.patches:\n",
    "    ax1.annotate(str(p.get_height()), \n",
    "                (p.get_x() + p.get_width() / 2., p.get_height()),\n",
    "                ha='center', va='center', \n",
    "                xytext=(0, 5), \n",
    "                textcoords='offset points')\n",
    "plt.xlabel(\"Class Label\", fontsize=12)\n",
    "plt.ylabel(\"Frequency [count]\", fontsize=12)\n",
    "plt.title(\"Training Dataset Class Distribution\", fontsize=14, pad=20)\n",
    "plt.xticks(rotation=45, ha='right')\n",
    "plt.grid(axis='y', alpha=0.3)\n",
    "\n",
    "# Plot test data distribution\n",
    "plt.subplot(1, 2, 2)\n",
    "ax2 = test_counts.sort_values().plot(\n",
    "    kind='bar',\n",
    "    color='lightcoral',\n",
    "    edgecolor='black',\n",
    "    width=0.8\n",
    ")\n",
    "for p in ax2.patches:\n",
    "    ax2.annotate(str(p.get_height()), \n",
    "                (p.get_x() + p.get_width() / 2., p.get_height()),\n",
    "                ha='center', va='center', \n",
    "                xytext=(0, 5), \n",
    "                textcoords='offset points')\n",
    "plt.xlabel(\"Class Label\", fontsize=12)\n",
    "plt.ylabel(\"Frequency [count]\", fontsize=12)\n",
    "plt.title(\"Test Dataset Class Distribution\", fontsize=14, pad=20)\n",
    "plt.xticks(rotation=45, ha='right')\n",
    "plt.grid(axis='y', alpha=0.3)\n",
    "\n",
    "plt.tight_layout()\n",
    "plt.show()"
   ]
  },
  {
   "cell_type": "code",
   "execution_count": 52,
   "metadata": {},
   "outputs": [
    {
     "name": "stdout",
     "output_type": "stream",
     "text": [
      "<class 'torch.utils.data.dataloader.DataLoader'>\n",
      "<class 'torch.utils.data.dataloader.DataLoader'>\n"
     ]
    }
   ],
   "source": [
    "batch_size = 32\n",
    "\n",
    "train_loader = DataLoader(training_dataset, batch_size, shuffle=True)\n",
    "test_loader = DataLoader(test_dataset, batch_size, shuffle=False)\n",
    "\n",
    "print(type(train_loader))\n",
    "print(type(test_loader))"
   ]
  },
  {
   "cell_type": "code",
   "execution_count": 53,
   "metadata": {},
   "outputs": [
    {
     "name": "stdout",
     "output_type": "stream",
     "text": [
      "Shape of batch of images torch.Size([32, 3, 224, 224])\n",
      "Shape of batch of labels: torch.Size([32])\n"
     ]
    }
   ],
   "source": [
    "data_iter = iter(train_loader)\n",
    "images, labels = next(data_iter)\n",
    "\n",
    "image_shape = images.shape\n",
    "print(\"Shape of batch of images\", image_shape)\n",
    "\n",
    "label_shape =  labels.shape\n",
    "print(\"Shape of batch of labels:\", label_shape)"
   ]
  },
  {
   "cell_type": "markdown",
   "metadata": {},
   "source": [
    "## Model Building -Convolutional Neural Network"
   ]
  },
  {
   "cell_type": "code",
   "execution_count": 54,
   "metadata": {},
   "outputs": [
    {
     "name": "stdout",
     "output_type": "stream",
     "text": [
      "Sequential(\n",
      "  (0): Conv2d(3, 16, kernel_size=(3, 3), stride=(1, 1), padding=(1, 1))\n",
      "  (1): ReLU()\n",
      "  (2): MaxPool2d(kernel_size=2, stride=2, padding=0, dilation=1, ceil_mode=False)\n",
      "  (3): Conv2d(16, 32, kernel_size=(3, 3), stride=(1, 1), padding=(1, 1))\n",
      "  (4): ReLU()\n",
      "  (5): MaxPool2d(kernel_size=2, stride=2, padding=0, dilation=1, ceil_mode=False)\n",
      "  (6): Conv2d(32, 64, kernel_size=(3, 3), stride=(1, 1), padding=(1, 1))\n",
      "  (7): ReLU()\n",
      "  (8): MaxPool2d(kernel_size=2, stride=2, padding=0, dilation=1, ceil_mode=False)\n",
      "  (9): Flatten(start_dim=1, end_dim=-1)\n",
      "  (10): Dropout(p=0.5, inplace=False)\n",
      "  (11): Linear(in_features=50176, out_features=500, bias=True)\n",
      "  (12): ReLU()\n",
      "  (13): Dropout(p=0.5, inplace=False)\n",
      "  (14): Linear(in_features=500, out_features=4, bias=True)\n",
      ")\n"
     ]
    }
   ],
   "source": [
    "model = torch.nn.Sequential()\n",
    "# Convolutional layer 1 (sees 3x224x224 image tensor)\n",
    "conv1 = nn.Conv2d(in_channels=3,out_channels=16,kernel_size=3,padding=1)\n",
    "model.append(conv1)\n",
    "max_pool1 = nn.MaxPool2d(2, 2)\n",
    "model.append(torch.nn.ReLU())\n",
    "model.append(max_pool1)\n",
    "conv2 = nn.Conv2d(16,32,3,padding=1)\n",
    "max_pool2 = nn.MaxPool2d(2, 2)\n",
    "model.append(conv2)\n",
    "model.append(torch.nn.ReLU())\n",
    "model.append(max_pool2)\n",
    "conv3 = nn.Conv2d(32,64,3,padding=1)\n",
    "max_pool3 = nn.MaxPool2d(2, 2)\n",
    "model.append(conv3)\n",
    "model.append(torch.nn.ReLU())\n",
    "model.append(max_pool3)\n",
    "model.append(torch.nn.Flatten())\n",
    "model.append(nn.Dropout(0.5))\n",
    "# Linear layer (64 * 28 * 28 -> 500)\n",
    "linear1 = nn.Linear(64 * 28 * 28,500)\n",
    "model.append(linear1)\n",
    "model.append(torch.nn.ReLU())\n",
    "model.append(torch.nn.Dropout())\n",
    "output_layer = nn.Linear(500,4)\n",
    "model.append(output_layer)\n",
    "print(model)\n"
   ]
  },
  {
   "cell_type": "markdown",
   "metadata": {},
   "source": [
    "## Training Our Model"
   ]
  },
  {
   "cell_type": "code",
   "execution_count": 55,
   "metadata": {},
   "outputs": [
    {
     "name": "stdout",
     "output_type": "stream",
     "text": [
      "CrossEntropyLoss()\n",
      "----------------------\n",
      "Adam (\n",
      "Parameter Group 0\n",
      "    amsgrad: False\n",
      "    betas: (0.9, 0.999)\n",
      "    capturable: False\n",
      "    differentiable: False\n",
      "    eps: 1e-08\n",
      "    foreach: None\n",
      "    fused: None\n",
      "    lr: 0.001\n",
      "    maximize: False\n",
      "    weight_decay: 0\n",
      ")\n"
     ]
    }
   ],
   "source": [
    "loss_fn = nn.CrossEntropyLoss()\n",
    "optimizer = optim.Adam(model.parameters(), lr=0.001)\n",
    "\n",
    "print(loss_fn)\n",
    "print(\"----------------------\")\n",
    "print(optimizer)"
   ]
  },
  {
   "cell_type": "code",
   "execution_count": 56,
   "metadata": {},
   "outputs": [
    {
     "data": {
      "text/plain": [
       "==========================================================================================\n",
       "Layer (type:depth-idx)                   Output Shape              Param #\n",
       "==========================================================================================\n",
       "Sequential                               [32, 4]                   --\n",
       "├─Conv2d: 1-1                            [32, 16, 224, 224]        448\n",
       "├─ReLU: 1-2                              [32, 16, 224, 224]        --\n",
       "├─MaxPool2d: 1-3                         [32, 16, 112, 112]        --\n",
       "├─Conv2d: 1-4                            [32, 32, 112, 112]        4,640\n",
       "├─ReLU: 1-5                              [32, 32, 112, 112]        --\n",
       "├─MaxPool2d: 1-6                         [32, 32, 56, 56]          --\n",
       "├─Conv2d: 1-7                            [32, 64, 56, 56]          18,496\n",
       "├─ReLU: 1-8                              [32, 64, 56, 56]          --\n",
       "├─MaxPool2d: 1-9                         [32, 64, 28, 28]          --\n",
       "├─Flatten: 1-10                          [32, 50176]               --\n",
       "├─Dropout: 1-11                          [32, 50176]               --\n",
       "├─Linear: 1-12                           [32, 500]                 25,088,500\n",
       "├─ReLU: 1-13                             [32, 500]                 --\n",
       "├─Dropout: 1-14                          [32, 500]                 --\n",
       "├─Linear: 1-15                           [32, 4]                   2,004\n",
       "==========================================================================================\n",
       "Total params: 25,114,088\n",
       "Trainable params: 25,114,088\n",
       "Non-trainable params: 0\n",
       "Total mult-adds (Units.GIGABYTES): 5.24\n",
       "==========================================================================================\n",
       "Input size (MB): 19.27\n",
       "Forward/backward pass size (MB): 359.79\n",
       "Params size (MB): 100.46\n",
       "Estimated Total Size (MB): 479.51\n",
       "=========================================================================================="
      ]
     },
     "execution_count": 56,
     "metadata": {},
     "output_type": "execute_result"
    }
   ],
   "source": [
    "height = 224\n",
    "width = 224\n",
    "summary(model, input_size=(batch_size, 3, height, width))"
   ]
  },
  {
   "cell_type": "code",
   "execution_count": 57,
   "metadata": {},
   "outputs": [
    {
     "name": "stdout",
     "output_type": "stream",
     "text": [
      "Epoch 1/5\n",
      "Train Loss: 0.6109 - Train Acc: 76.62% - Val Loss: 0.4495 - Val Acc: 80.22%\n",
      "Epoch 2/5\n",
      "Train Loss: 0.3322 - Train Acc: 87.44% - Val Loss: 0.3167 - Val Acc: 85.60%\n",
      "Epoch 3/5\n",
      "Train Loss: 0.2626 - Train Acc: 89.08% - Val Loss: 0.2669 - Val Acc: 88.77%\n",
      "Epoch 4/5\n",
      "Train Loss: 0.2201 - Train Acc: 91.40% - Val Loss: 0.2676 - Val Acc: 88.92%\n",
      "Epoch 5/5\n",
      "Train Loss: 0.1825 - Train Acc: 93.07% - Val Loss: 0.2664 - Val Acc: 89.72%\n"
     ]
    }
   ],
   "source": [
    "def train(\n",
    "    model,\n",
    "    optimizer,\n",
    "    loss_fn,\n",
    "    train_loader,\n",
    "    val_loader,\n",
    "    epochs=5,\n",
    "    device='cpu',\n",
    "    use_train_accuracy=True,\n",
    "):\n",
    "    model.to(device)\n",
    "    \n",
    "    # Initialize lists to store metrics\n",
    "    train_losses = []\n",
    "    test_losses = []\n",
    "    train_accuracies = []\n",
    "    test_accuracies = []\n",
    "    \n",
    "    for epoch in range(epochs):\n",
    "        # Training phase\n",
    "        model.train()\n",
    "        train_loss = 0.0\n",
    "        correct_train = 0\n",
    "        total_train = 0\n",
    "        \n",
    "        for inputs, labels in train_loader:\n",
    "            inputs, labels = inputs.to(device), labels.to(device)\n",
    "            \n",
    "            optimizer.zero_grad()\n",
    "            \n",
    "            outputs = model(inputs)\n",
    "            loss = loss_fn(outputs, labels)\n",
    "            loss.backward()\n",
    "            optimizer.step()\n",
    "            \n",
    "            train_loss += loss.item()\n",
    "            \n",
    "            if use_train_accuracy:\n",
    "                _, predicted = torch.max(outputs.data, 1)\n",
    "                total_train += labels.size(0)\n",
    "                correct_train += (predicted == labels).sum().item()\n",
    "        \n",
    "        # Validation phase\n",
    "        model.eval()\n",
    "        val_loss = 0.0\n",
    "        correct_val = 0\n",
    "        total_val = 0\n",
    "        \n",
    "        with torch.no_grad():\n",
    "            for inputs, labels in val_loader:\n",
    "                inputs, labels = inputs.to(device), labels.to(device)\n",
    "                \n",
    "                outputs = model(inputs)\n",
    "                loss = loss_fn(outputs, labels)\n",
    "                val_loss += loss.item()\n",
    "                \n",
    "                _, predicted = torch.max(outputs.data, 1)\n",
    "                total_val += labels.size(0)\n",
    "                correct_val += (predicted == labels).sum().item()\n",
    "        \n",
    "        # Calculate and store metrics\n",
    "        train_loss /= len(train_loader)\n",
    "        val_loss /= len(val_loader)\n",
    "        train_losses.append(train_loss)\n",
    "        test_losses.append(val_loss)\n",
    "        \n",
    "        if use_train_accuracy:\n",
    "            train_acc = 100 * correct_train / total_train\n",
    "            train_accuracies.append(train_acc)\n",
    "        test_acc = 100 * correct_val / total_val\n",
    "        test_accuracies.append(test_acc)\n",
    "        \n",
    "        # Print statistics\n",
    "        print(f'Epoch {epoch+1}/{epochs}')\n",
    "        print(f'Train Loss: {train_loss:.4f}', end=' ')\n",
    "        if use_train_accuracy:\n",
    "            print(f'- Train Acc: {train_acc:.2f}%', end=' ')\n",
    "        print(f'- Val Loss: {val_loss:.4f} - Val Acc: {test_acc:.2f}%')\n",
    "    \n",
    "    return train_losses, test_losses, train_accuracies, test_accuracies\n",
    "\n",
    "train_losses, test_losses, train_accuracies, test_accuracies = train(model,optimizer,loss_fn,train_loader,test_loader,epochs=5)\n"
   ]
  },
  {
   "cell_type": "code",
   "execution_count": 58,
   "metadata": {},
   "outputs": [
    {
     "data": {
      "image/png": "[encoded data removed]",
      "text/plain": [
       "<Figure size 1200x500 with 2 Axes>"
      ]
     },
     "metadata": {},
     "output_type": "display_data"
    }
   ],
   "source": [
    "## Model Evalutions\n",
    "plt.figure(figsize=(12, 5))\n",
    "\n",
    "plt.subplot(1, 2, 1)\n",
    "plt.plot(train_losses, label=\"Training Loss\")\n",
    "plt.plot(test_losses, label=\"Validation Loss\")\n",
    "plt.title(\"Loss over epochs\")\n",
    "plt.xlabel(\"Epochs\")\n",
    "plt.ylabel(\"Loss\")\n",
    "plt.legend()\n",
    "\n",
    "plt.subplot(1, 2, 2)\n",
    "plt.plot(train_accuracies, label=\"Training Accuracy\")\n",
    "plt.plot(test_accuracies, label=\"Validation Accuracy\")\n",
    "plt.title(\"Accuracy over epochs\")\n",
    "plt.xlabel(\"Epochs\")\n",
    "plt.ylabel(\"Accuracy\")\n",
    "plt.legend()\n",
    "\n",
    "plt.show()"
   ]
  },
  {
   "cell_type": "markdown",
   "metadata": {},
   "source": [
    "### Overall Assessment\n",
    "**Overfitting**: The divergence between training and validation metrics suggests potential overfitting. The model performs well on training data but struggles to generalize to validation data.\n",
    "\n",
    "### Next Steps:\n",
    "1. **Regularization**: Consider adding techniques like dropout or L2 regularization to mitigate overfitting.\n",
    "2. **Data Augmentation**: Implement data augmentation strategies to increase the diversity of the training dataset.\n",
    "3. **Early Stopping**: Use early stopping based on validation loss to prevent overfitting.\n",
    "4. **Hyperparameter Tuning**: Experiment with different learning rates, batch sizes, or model architectures.\n"
   ]
  },
  {
   "cell_type": "code",
   "execution_count": 59,
   "metadata": {},
   "outputs": [
    {
     "name": "stdout",
     "output_type": "stream",
     "text": [
      "tensor([1, 0, 0, 0, 2, 0, 0, 2, 0, 0, 0, 0, 0, 0, 2, 0, 0, 2, 2, 0, 2, 0, 3, 1,\n",
      "        0, 0, 2, 0, 0, 0, 0, 0, 0, 2, 0, 2, 2, 2, 0, 0, 0, 0, 0, 0, 0, 0, 1, 0,\n",
      "        0, 0, 0, 2, 2, 0, 0, 0, 0, 0, 0, 0, 0, 0, 2, 2, 0, 0, 0, 0, 0, 0, 0, 2,\n",
      "        0, 0, 2, 0, 2, 0, 2, 0, 0, 0, 0, 0, 0, 0, 0, 2, 0, 0, 0, 0, 0, 2, 0, 0,\n",
      "        0, 0, 2, 2, 2, 0, 0, 0, 0, 0, 2, 0, 0, 2, 2, 0, 2, 0, 2, 0, 0, 0, 0, 0,\n",
      "        0, 0, 0, 0, 0, 2, 0, 0, 0, 0, 0, 2, 0, 0, 2, 0, 2, 0, 0, 0, 0, 0, 0, 2,\n",
      "        1, 3, 2, 0, 0, 0, 2, 0, 0, 2, 0, 0, 0, 2, 0, 0, 0, 2, 2, 2, 0, 0, 0, 0,\n",
      "        0, 0, 0, 0, 2, 1, 1, 1, 1, 1, 1, 1, 1, 1, 1, 1, 1, 1, 1, 1, 1, 1, 1, 1,\n",
      "        1, 1, 1, 1, 1, 1, 1, 1, 1, 1, 1, 1, 1, 1, 1, 1, 1, 1, 1, 1, 1, 1, 1, 1,\n",
      "        1, 1, 1, 1, 1, 2, 2, 1, 1, 2, 1, 1, 1, 1, 1, 1, 1, 1, 1, 1, 1, 1, 1, 1,\n",
      "        1, 1, 1, 1, 1, 1, 1, 1, 1, 1, 1, 1, 1, 1, 1, 1, 1, 1, 1, 1, 1, 1, 1, 1,\n",
      "        1, 1, 1, 1, 1, 0, 1, 1, 1, 1, 1, 1, 1, 1, 1, 1, 1, 1, 1, 1, 1, 1, 1, 1,\n",
      "        1, 1, 1, 1, 1, 1, 1, 1, 1, 1, 1, 1, 1, 1, 1, 1, 1, 1, 1, 1, 1, 1, 1, 1,\n",
      "        1, 1, 1, 1, 0, 1, 1, 1, 1, 1, 1, 1, 1, 1, 1, 1, 1, 1, 1, 1, 1, 1, 1, 1,\n",
      "        1, 1, 1, 1, 1, 1, 1, 1, 1, 1, 1, 1, 1, 1, 1, 1, 1, 1, 1, 1, 1, 1, 1, 1,\n",
      "        1, 1, 1, 1, 1, 1, 1, 1, 1, 1, 2, 2, 2, 0, 2, 2, 2, 2, 2, 2, 2, 2, 2, 0,\n",
      "        2, 0, 2, 2, 2, 2, 2, 2, 2, 2, 2, 0, 2, 2, 2, 2, 2, 0, 2, 2, 2, 2, 2, 2,\n",
      "        2, 2, 2, 0, 2, 0, 2, 2, 2, 2, 2, 2, 0, 2, 2, 2, 2, 2, 2, 2, 0, 2, 2, 2,\n",
      "        2, 2, 2, 2, 0, 2, 2, 2, 2, 2, 2, 2, 2, 2, 0, 2, 2, 2, 2, 2, 3, 2, 2, 2,\n",
      "        2, 3, 3, 3, 3, 3, 3, 3, 3, 3, 3, 3, 3, 3, 3, 3, 3, 3, 3, 3, 3, 3, 3, 3,\n",
      "        3, 3, 3, 3, 3, 3, 3, 3, 3, 3, 3, 3, 3, 3, 3, 3, 3, 3, 3, 3, 3, 3, 3, 3,\n",
      "        3, 3, 3, 3, 3, 3, 3, 3, 3, 3, 3, 3, 3, 3, 3, 3, 3, 3, 3, 3, 3, 3, 3, 3,\n",
      "        3, 3, 3, 3, 3, 3, 3, 3, 3, 3, 3, 3, 3, 3, 3, 3, 3, 3, 3, 3, 3, 3, 3, 3,\n",
      "        3, 3, 3, 3, 3, 3, 3, 3, 3, 3, 3, 3, 3, 3, 3, 3, 3, 3, 3, 3, 3, 3, 3, 3,\n",
      "        3, 3, 3, 3, 3, 3, 3, 3, 3, 3, 3, 3, 3, 3, 3, 3, 3, 3, 3, 3, 3, 3, 3, 3,\n",
      "        3, 3, 3, 3, 3, 3, 3, 3, 3, 3, 3, 3, 3, 3, 3, 3, 3, 3, 3, 3, 3, 3, 3, 3,\n",
      "        3, 3, 3, 3, 3, 3, 3, 3])\n"
     ]
    }
   ],
   "source": [
    "def predict(model, data_loader):\n",
    "    model.eval()\n",
    "    all_probs = []\n",
    "    with torch.no_grad():\n",
    "        for images, _ in data_loader:\n",
    "            outputs = model(images)\n",
    "            probs = torch.softmax(outputs, dim=1)\n",
    "            all_probs.append(probs)\n",
    "    return torch.cat(all_probs, dim=0)\n",
    "\n",
    "probabilities_val = predict(model, test_loader)\n",
    "predictions_val = torch.argmax(probabilities_val, dim=1)\n",
    "\n",
    "print(predictions_val)"
   ]
  },
  {
   "cell_type": "code",
   "execution_count": 60,
   "metadata": {},
   "outputs": [
    {
     "name": "stderr",
     "output_type": "stream",
     "text": [
      "Get Labels: 100%|██████████| 20/20 [00:02<00:00,  6.73it/s]\n"
     ]
    }
   ],
   "source": [
    "targets_val = torch.cat(\n",
    "    [labels for _, labels in tqdm(test_loader, desc=\"Get Labels\")]\n",
    ")"
   ]
  },
  {
   "cell_type": "code",
   "execution_count": 61,
   "metadata": {},
   "outputs": [
    {
     "data": {
      "text/plain": [
       "<Figure size 1000x800 with 0 Axes>"
      ]
     },
     "metadata": {},
     "output_type": "display_data"
    },
    {
     "data": {
      "image/png": "[encoded data removed]",
      "text/plain": [
       "<Figure size 640x480 with 2 Axes>"
      ]
     },
     "metadata": {},
     "output_type": "display_data"
    }
   ],
   "source": [
    "cm = confusion_matrix(targets_val.cpu(), predictions_val.cpu())\n",
    "\n",
    "disp = ConfusionMatrixDisplay(confusion_matrix=cm, display_labels=classes)\n",
    "\n",
    "# Set figure size\n",
    "plt.figure(figsize=(10, 8))\n",
    "\n",
    "disp.plot(cmap=plt.cm.Blues, xticks_rotation=\"vertical\")\n",
    "plt.show()"
   ]
  },
  {
   "cell_type": "markdown",
   "metadata": {},
   "source": [
    "## Submission to Hackathon"
   ]
  },
  {
   "cell_type": "code",
   "execution_count": 62,
   "metadata": {},
   "outputs": [
    {
     "name": "stdout",
     "output_type": "stream",
     "text": [
      "crop pictures\\val\n"
     ]
    }
   ],
   "source": [
    "val_dir = os.path.join('crop pictures','val')\n",
    "\n",
    "print(val_dir)"
   ]
  },
  {
   "cell_type": "code",
   "execution_count": 63,
   "metadata": {},
   "outputs": [],
   "source": [
    "def file_to_confidence(model, datadir, filename, transform_pipeline):\n",
    "    file_path = os.path.join(datadir, filename)\n",
    "    image = PIL.Image.open(file_path)\n",
    "    transformed = transform_pipeline(image)\n",
    "    unsqueezed = transformed.unsqueeze(0)\n",
    "    image_cuda = unsqueezed.to(device)\n",
    "\n",
    "    model.eval()\n",
    "    with torch.no_grad():\n",
    "        model_raw = model(image_cuda)\n",
    "        confidence = torch.nn.functional.softmax(model_raw, dim=1)\n",
    "\n",
    "    conf_df = pd.DataFrame([[filename] + confidence.tolist()[0]])\n",
    "    conf_df.columns = [\"ID\"] + training_dataset.classes\n",
    "\n",
    "    return conf_df"
   ]
  },
  {
   "cell_type": "code",
   "execution_count": 64,
   "metadata": {},
   "outputs": [
    {
     "data": {
      "text/plain": [
       "['Blight', 'Common_Rust', 'Gray_Leaf_Spot', 'Healthy']"
      ]
     },
     "execution_count": 64,
     "metadata": {},
     "output_type": "execute_result"
    }
   ],
   "source": [
    "training_dataset.classes"
   ]
  },
  {
   "cell_type": "code",
   "execution_count": 77,
   "metadata": {},
   "outputs": [
    {
     "data": {
      "text/html": [
       "<div>\n",
       "<style scoped>\n",
       "    .dataframe tbody tr th:only-of-type {\n",
       "        vertical-align: middle;\n",
       "    }\n",
       "\n",
       "    .dataframe tbody tr th {\n",
       "        vertical-align: top;\n",
       "    }\n",
       "\n",
       "    .dataframe thead th {\n",
       "        text-align: right;\n",
       "    }\n",
       "</style>\n",
       "<table border=\"1\" class=\"dataframe\">\n",
       "  <thead>\n",
       "    <tr style=\"text-align: right;\">\n",
       "      <th></th>\n",
       "      <th>ID</th>\n",
       "      <th>Blight</th>\n",
       "      <th>Common_Rust</th>\n",
       "      <th>Gray_Leaf_Spot</th>\n",
       "      <th>Healthy</th>\n",
       "    </tr>\n",
       "  </thead>\n",
       "  <tbody>\n",
       "    <tr>\n",
       "      <th>0</th>\n",
       "      <td>Corn_Blight (105).jpg</td>\n",
       "      <td>0.288141</td>\n",
       "      <td>0.103576</td>\n",
       "      <td>0.548405</td>\n",
       "      <td>0.059878</td>\n",
       "    </tr>\n",
       "  </tbody>\n",
       "</table>\n",
       "</div>"
      ],
      "text/plain": [
       "                      ID    Blight  Common_Rust  Gray_Leaf_Spot   Healthy\n",
       "0  Corn_Blight (105).jpg  0.288141     0.103576        0.548405  0.059878"
      ]
     },
     "execution_count": 77,
     "metadata": {},
     "output_type": "execute_result"
    }
   ],
   "source": [
    "blight_train_dir = os.path.join('crop pictures','val','blight')\n",
    "blight_images = os.listdir(blight_train_dir)\n",
    "\n",
    "file_to_confidence(model, blight_train_dir, blight_images[7], transform_normalized)"
   ]
  },
  {
   "cell_type": "code",
   "execution_count": 78,
   "metadata": {},
   "outputs": [
    {
     "data": {
      "text/html": [
       "<div>\n",
       "<style scoped>\n",
       "    .dataframe tbody tr th:only-of-type {\n",
       "        vertical-align: middle;\n",
       "    }\n",
       "\n",
       "    .dataframe tbody tr th {\n",
       "        vertical-align: top;\n",
       "    }\n",
       "\n",
       "    .dataframe thead th {\n",
       "        text-align: right;\n",
       "    }\n",
       "</style>\n",
       "<table border=\"1\" class=\"dataframe\">\n",
       "  <thead>\n",
       "    <tr style=\"text-align: right;\">\n",
       "      <th></th>\n",
       "      <th>ID</th>\n",
       "      <th>Blight</th>\n",
       "      <th>Common_Rust</th>\n",
       "      <th>Gray_Leaf_Spot</th>\n",
       "      <th>Healthy</th>\n",
       "    </tr>\n",
       "  </thead>\n",
       "  <tbody>\n",
       "    <tr>\n",
       "      <th>0</th>\n",
       "      <td>Corn_Blight (10).jpg</td>\n",
       "      <td>0.323049</td>\n",
       "      <td>0.008578</td>\n",
       "      <td>0.668249</td>\n",
       "      <td>0.000124</td>\n",
       "    </tr>\n",
       "    <tr>\n",
       "      <th>1</th>\n",
       "      <td>Corn_Blight (1003).JPG</td>\n",
       "      <td>0.219695</td>\n",
       "      <td>0.000409</td>\n",
       "      <td>0.779881</td>\n",
       "      <td>0.000015</td>\n",
       "    </tr>\n",
       "    <tr>\n",
       "      <th>2</th>\n",
       "      <td>Corn_Blight (1010).JPG</td>\n",
       "      <td>0.105801</td>\n",
       "      <td>0.000990</td>\n",
       "      <td>0.893119</td>\n",
       "      <td>0.000090</td>\n",
       "    </tr>\n",
       "    <tr>\n",
       "      <th>3</th>\n",
       "      <td>Corn_Blight (1016).JPG</td>\n",
       "      <td>0.788177</td>\n",
       "      <td>0.004068</td>\n",
       "      <td>0.206811</td>\n",
       "      <td>0.000943</td>\n",
       "    </tr>\n",
       "    <tr>\n",
       "      <th>4</th>\n",
       "      <td>Corn_Blight (1026).JPG</td>\n",
       "      <td>0.709736</td>\n",
       "      <td>0.002207</td>\n",
       "      <td>0.287851</td>\n",
       "      <td>0.000206</td>\n",
       "    </tr>\n",
       "  </tbody>\n",
       "</table>\n",
       "</div>"
      ],
      "text/plain": [
       "                       ID    Blight  Common_Rust  Gray_Leaf_Spot   Healthy\n",
       "0    Corn_Blight (10).jpg  0.323049     0.008578        0.668249  0.000124\n",
       "1  Corn_Blight (1003).JPG  0.219695     0.000409        0.779881  0.000015\n",
       "2  Corn_Blight (1010).JPG  0.105801     0.000990        0.893119  0.000090\n",
       "3  Corn_Blight (1016).JPG  0.788177     0.004068        0.206811  0.000943\n",
       "4  Corn_Blight (1026).JPG  0.709736     0.002207        0.287851  0.000206"
      ]
     },
     "execution_count": 78,
     "metadata": {},
     "output_type": "execute_result"
    }
   ],
   "source": [
    "small_dfs = []\n",
    "\n",
    "# Change from this:\n",
    "val_dir = os.path.join('crop pictures','val')\n",
    "\n",
    "# To this:\n",
    "val_dir = os.path.join('crop pictures','val','Blight')  # Or process all classes\n",
    "\n",
    "# OR process all class directories:\n",
    "small_dfs = []\n",
    "class_folders = ['Blight', 'Common_Rust', 'Gray_Leaf_Spot', 'Healthy']\n",
    "\n",
    "for class_name in class_folders:\n",
    "    class_dir = os.path.join('crop pictures','val', class_name)\n",
    "    for filename in os.listdir(class_dir):\n",
    "        if filename.lower().endswith(('.png', '.jpg', '.jpeg')):\n",
    "            small_dfs.append(\n",
    "                file_to_confidence(model, class_dir, filename, transform_normalized)\n",
    "            )\n",
    "\n",
    "confidence_df = pd.concat(small_dfs)\n",
    "\n",
    "confidence_df = confidence_df.sort_values(\"ID\").reset_index(drop=True)\n",
    "confidence_df.head()"
   ]
  },
  {
   "cell_type": "code",
   "execution_count": null,
   "metadata": {},
   "outputs": [],
   "source": [
    "confidence_df.to_csv(\"submission.csv\", index=False)"
   ]
  }
 ],
 "metadata": {
  "kernelspec": {
   "display_name": "Python 3",
   "language": "python",
   "name": "python3"
  },
  "language_info": {
   "codemirror_mode": {
    "name": "ipython",
    "version": 3
   },
   "file_extension": ".py",
   "mimetype": "text/x-python",
   "name": "python",
   "nbconvert_exporter": "python",
   "pygments_lexer": "ipython3",
   "version": "3.11.0"
  }
 },
 "nbformat": 4,
 "nbformat_minor": 2
}
