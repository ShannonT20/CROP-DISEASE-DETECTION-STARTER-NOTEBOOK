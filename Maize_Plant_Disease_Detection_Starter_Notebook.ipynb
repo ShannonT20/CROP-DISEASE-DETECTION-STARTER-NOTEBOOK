{
 "cells": [
  {
   "cell_type": "markdown",
   "metadata": {},
   "source": [
    "# Maize Plant Disease Detection Starter Notebook"
   ]
  },
  {
   "cell_type": "markdown",
   "metadata": {},
   "source": [
    "# AI for Crop Health - Diagnosing Maize Plant Diseases in Zimbabwe Using Deep Learning\n",
    "\n",
    "## 📌 Info Page\n",
    "\n",
    "### About the Challenge\n",
    "Maize is the staple crop that sustains millions of Zimbabweans, underpinning both food security and livelihoods across rural and urban communities. Yet, Zimbabwe’s maize production is persistently threatened by several devastating leaf diseases—primarily **Common Rust**, **Gray Leaf Spot**, and **Blight**—which cause significant yield reductions and economic losses.\n",
    "\n",
    "These diseases are widespread across Zimbabwe’s diverse agro-ecological zones, including:\n",
    "- High-rainfall areas like **Mashonaland East** and **Manicaland**.\n",
    "- Drier regions like **Masvingo**.\n",
    "- The central **Midlands**.\n",
    "\n",
    "Their impact is exacerbated by limited access to timely and accurate disease diagnostics, especially for smallholder farmers who form the backbone of Zimbabwe’s agriculture.\n",
    "\n",
    "### Your Task\n",
    "Develop **deep learning models** that can accurately detect and classify maize diseases from leaf images. Leveraging AI for early and precise disease identification can transform farming practices by:\n",
    "- Providing farmers with **real-time, accessible tools** to identify diseases before they spread widely.\n",
    "- Reducing reliance on **manual inspection**, which is often subjective and slow.\n",
    "- Enabling **targeted interventions** to minimize crop loss and reduce pesticide overuse.\n",
    "- Contributing to **improved food security** and agricultural sustainability in Zimbabwe.\n",
    "\n",
    "### Dataset Overview\n",
    "The dataset includes images of maize leaves categorized into:\n",
    "1. **Common Rust**\n",
    "2. **Gray Leaf Spot**\n",
    "3. **Blight**\n",
    "4. **Healthy**\n",
    "\n",
    "Your challenge is to design and train models robust to diverse field conditions (e.g., varying lighting, leaf angles, and disease severity).\n",
    "\n",
    "### Impact\n",
    "By addressing this challenge, you will contribute to a **high-impact solution** with direct applications in Zimbabwe’s farming communities and beyond, driving the adoption of AI-powered precision agriculture in sub-Saharan Africa.\n",
    "\n",
    "---\n",
    "\n",
    "## 📊 Evaluation\n",
    "- **Metrics**: Accuracy, Precision, Recall, F1-Score.\n",
    "- **Leaderboard**: Based on performance on the evaluation set.\n",
    "# \n",
    "### 🏆 Prizes\n",
    " - **Top 3 performers** will receive:\n",
    "   - Official certification of achievement\n",
    "   - Recognition on our community platforms\n",
    "   - Priority consideration for future opportunities with:\n",
    "     - The Deep Learning Indaba X Zimbabwe community\n",
    "     - Agricultural sector partners\n",
    "\n",
    "## ⏳ Timeline\n",
    "- **Start Date**: [Insert Date]\n",
    "- **Submission Deadline**: [Insert Date]\n",
    "- **Results Announcement**: [Insert Date]\n",
    "\n",
    "## 📜 Rules\n",
    "- This challenge is **only open to the Deep Learning Indaba X Zimbabwe Community**.\n",
    "- Teams must adhere to the **code of conduct** and **submission guidelines**.\n",
    "\n",
    "---\n",
    "\n",
    "## 📂 Data Page\n",
    "\n",
    "### About the Data\n",
    "The dataset contains labelled images of crop leaves, categorized into four classes:\n",
    "\n",
    "| Class          | Label | Number of Images |\n",
    "|----------------|-------|------------------|\n",
    "| Common Rust    | 0     | 1,306            |\n",
    "| Gray Leaf Spot | 1     | 574              |\n",
    "| Blight         | 2     | 1,146            |\n",
    "| Healthy        | 3     | 1,162            |\n",
    "\n",
    "\n",
    "\n"
   ]
  },
  {
   "cell_type": "markdown",
   "metadata": {},
   "source": [
    "# 🌱 Starter Notebook:  Maize Plant Disease Detection \n",
    "\n",
    "## 📌 Overview\n",
    "This notebook serves as a **starter template** for the *AI for Crop Health* hackathon challenge. It provides a foundational workflow for loading, preprocessing, and analyzing the maize disease dataset, as well as training a baseline deep learning model. Use this as a jumping-off point to build and refine your solution.\n",
    "\n",
    "---\n",
    "\n",
    "## 🎯 Objectives\n",
    "By the end of this notebook, you will:\n",
    "1. **Explore the dataset**: Visualize sample images and understand class distributions.\n",
    "2. **Preprocess data**: Resize, normalize, and augment images for model training.\n",
    "3. **Train a baseline model**: Implement a simple CNN or transfer learning model.\n",
    "4. **Evaluate performance**: Calculate metrics (accuracy, F1-score) and identify areas for improvement.\n",
    "\n",
    "---"
   ]
  },
  {
   "cell_type": "markdown",
   "metadata": {},
   "source": [
    "## **Importing Libraries**"
   ]
  },
  {
   "cell_type": "code",
   "execution_count": 2,
   "metadata": {},
   "outputs": [],
   "source": [
    "import os\n",
    "\n",
    "import pandas as pd\n",
    "import matplotlib\n",
    "import matplotlib.pyplot as plt\n",
    "import numpy as np\n",
    "import PIL\n",
    "import torch\n",
    "import torch.nn as nn\n",
    "import torch.optim as optim\n",
    "import torchinfo\n",
    "import torchvision\n",
    "from sklearn.metrics import ConfusionMatrixDisplay, confusion_matrix\n",
    "from torch.utils.data import DataLoader, random_split\n",
    "from torchinfo import summary\n",
    "from torchvision import datasets, transforms\n",
    "from tqdm import tqdm"
   ]
  },
  {
   "cell_type": "markdown",
   "metadata": {},
   "source": []
  }
 ],
 "metadata": {
  "kernelspec": {
   "display_name": "Python 3",
   "language": "python",
   "name": "python3"
  },
  "language_info": {
   "codemirror_mode": {
    "name": "ipython",
    "version": 3
   },
   "file_extension": ".py",
   "mimetype": "text/x-python",
   "name": "python",
   "nbconvert_exporter": "python",
   "pygments_lexer": "ipython3",
   "version": "3.11.0"
  }
 },
 "nbformat": 4,
 "nbformat_minor": 2
}
