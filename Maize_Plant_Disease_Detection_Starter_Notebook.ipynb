{
 "cells": [
  {
   "cell_type": "markdown",
   "metadata": {},
   "source": [
    "# Maize Plant Disease Detection Starter Notebook"
   ]
  },
  {
   "cell_type": "markdown",
   "metadata": {},
   "source": [
    "## AI for Crop Health - Diagnosing Maize Plant Diseases in Zimbabwe Using Deep Learning\n",
    "\n",
    "## 📌 Info Page\n",
    "\n",
    "### About the Challenge\n",
    "Maize is the staple crop that sustains millions of Zimbabweans, underpinning both food security and livelihoods across rural and urban communities. Yet, Zimbabwe’s maize production is persistently threatened by several devastating leaf diseases—primarily **Common Rust**, **Gray Leaf Spot**, and **Blight**—which cause significant yield reductions and economic losses.\n",
    "\n",
    "These diseases are widespread across Zimbabwe’s diverse agro-ecological zones, including:\n",
    "- High-rainfall areas like **Mashonaland East** and **Manicaland**.\n",
    "- Drier regions like **Masvingo**.\n",
    "- The central **Midlands**.\n",
    "\n",
    "Their impact is exacerbated by limited access to timely and accurate disease diagnostics, especially for smallholder farmers who form the backbone of Zimbabwe’s agriculture.\n",
    "\n",
    "### Your Task\n",
    "Develop **deep learning models** that can accurately detect and classify maize diseases from leaf images. Leveraging AI for early and precise disease identification can transform farming practices by:\n",
    "- Providing farmers with **real-time, accessible tools** to identify diseases before they spread widely.\n",
    "- Reducing reliance on **manual inspection**, which is often subjective and slow.\n",
    "- Enabling **targeted interventions** to minimize crop loss and reduce pesticide overuse.\n",
    "- Contributing to **improved food security** and agricultural sustainability in Zimbabwe.\n",
    "\n",
    "### Dataset Overview\n",
    "The dataset includes images of maize leaves categorized into:\n",
    "1. **Common Rust**\n",
    "2. **Gray Leaf Spot**\n",
    "3. **Blight**\n",
    "4. **Healthy**\n",
    "\n",
    "Your challenge is to design and train models robust to diverse field conditions (e.g., varying lighting, leaf angles, and disease severity).\n",
    "\n",
    "### Impact\n",
    "By addressing this challenge, you will contribute to a **high-impact solution** with direct applications in Zimbabwe’s farming communities and beyond, driving the adoption of AI-powered precision agriculture in sub-Saharan Africa.\n",
    "\n",
    "\n",
    "## 📊 Evaluation\n",
    "- **Metrics**: Accuracy, Precision, Recall, F1-Score.\n",
    "- **Leaderboard**: Based on performance on the evaluation set.\n",
    "# \n",
    "### 🏆 Prizes\n",
    " - **Top 3 performers** will receive:\n",
    "   - Official certification of achievement\n",
    "   - Recognition on our community platforms\n",
    "   - Priority consideration for future opportunities with:\n",
    "     - The Deep Learning Indaba X Zimbabwe community\n",
    "     - Agricultural sector partners\n",
    "\n",
    "## ⏳ Timeline\n",
    "- **Start Date**: [Insert Date]\n",
    "- **Submission Deadline**: [Insert Date]\n",
    "- **Results Announcement**: [Insert Date]\n",
    "\n",
    "## 📜 Rules\n",
    "- This challenge is **only open to the Deep Learning Indaba X Zimbabwe Community**.\n",
    "- Teams must adhere to the **code of conduct** and **submission guidelines**.\n",
    "\n",
    "\n",
    "## 📂 Data Page\n",
    "\n",
    "### About the Data\n",
    "The dataset contains labelled images of crop leaves, categorized into four classes:\n",
    "\n",
    " | Class          | Training Images | Validation Images | Test Images | Total Images |\n",
    " |----------------|------------------|-------------|-------------------|--------------|\n",
    " | Common Rust    | 914              | 197         | -                 | 1,111        |\n",
    " | Gray Leaf Spot | 401              | 87          | -                 | 488          |\n",
    " | Blight         | 802              | 173         | -                 | 975          |\n",
    " | Healthy        | 813              | 175         | -                 | 988          |\n",
    " | Unlabeled      | -                | -           | 626               | 626          |\n",
    "\n",
    "\n",
    "\n"
   ]
  },
  {
   "cell_type": "markdown",
   "metadata": {},
   "source": [
    "# 🌱 Starter Notebook:  Maize Plant Disease Detection \n",
    "\n",
    "## 📌 Overview\n",
    "This notebook serves as a **starter template** for the *AI for Crop Health* hackathon challenge. It provides a foundational workflow for loading, preprocessing, and analyzing the maize disease dataset, as well as training a baseline deep learning model. Use this as a jumping-off point to build and refine your solution.\n",
    "\n",
    "\n",
    "## 🎯 Objectives\n",
    "By the end of this notebook, you will:\n",
    "1. **Explore the dataset**: Visualize sample images and understand class distributions.\n",
    "2. **Preprocess data**: Resize, normalize, and augment images for model training.\n",
    "3. **Train a baseline model**: Implement a simple CNN or transfer learning model.\n",
    "4. **Evaluate performance**: Calculate metrics (accuracy, F1-score) and identify areas for improvement.\n",
    "\n"
   ]
  },
  {
   "cell_type": "markdown",
   "metadata": {},
   "source": [
    "## **Importing Libraries**"
   ]
  },
  {
   "cell_type": "code",
   "execution_count": 22,
   "metadata": {},
   "outputs": [],
   "source": [
    "import os\n",
    "\n",
    "import pandas as pd\n",
    "import matplotlib\n",
    "import matplotlib.pyplot as plt\n",
    "import numpy as np\n",
    "import PIL\n",
    "import torch\n",
    "import torch.nn as nn\n",
    "import torch.optim as optim\n",
    "import torchinfo\n",
    "import torchvision\n",
    "from sklearn.metrics import ConfusionMatrixDisplay, confusion_matrix\n",
    "from torch.utils.data import DataLoader, random_split\n",
    "from torchinfo import summary\n",
    "from torchvision import datasets, transforms\n",
    "from tqdm import tqdm\n",
    "from sklearn.metrics import classification_report"
   ]
  },
  {
   "cell_type": "code",
   "execution_count": 2,
   "metadata": {},
   "outputs": [],
   "source": [
    "# Check for available hardware acceleration and set device accordingly\n",
    "\n",
    "if torch.cuda.is_available():\n",
    "    device = \"cuda\"\n",
    "elif torch.backends.mps.is_available():\n",
    "    device = \"mps\"\n",
    "else:\n",
    "    device = \"cpu\"\n"
   ]
  },
  {
   "cell_type": "markdown",
   "metadata": {},
   "source": [
    "### **Exploring and Preparing Our Data**"
   ]
  },
  {
   "cell_type": "code",
   "execution_count": 3,
   "metadata": {},
   "outputs": [
    {
     "name": "stdout",
     "output_type": "stream",
     "text": [
      "Training Data Directory: crop pictures\\train\n",
      "val Data Directory: crop pictures\\val\n"
     ]
    }
   ],
   "source": [
    "# Define paths to training and val data directories\n",
    "# Using os.path.join() ensures cross-platform compatibility for path construction\n",
    "train_data_dir = os.path.join(\"crop pictures\", \"train\")  # Path to training data\n",
    "val_data_dir = os.path.join(\"crop pictures\", \"val\")    # Path to val data\n",
    "\n",
    "# Print the paths for verification and debugging purposes\n",
    "print(\"Training Data Directory:\", train_data_dir)  # Show training data path\n",
    "print(\"val Data Directory:\", val_data_dir)       # Show val data path"
   ]
  },
  {
   "cell_type": "code",
   "execution_count": 4,
   "metadata": {},
   "outputs": [
    {
     "name": "stdout",
     "output_type": "stream",
     "text": [
      "List of classes: ['Blight', 'Common_Rust', 'Gray_Leaf_Spot', 'Healthy']\n"
     ]
    }
   ],
   "source": [
    "#Create and print a list of class names in our directory\n",
    "classes = os.listdir(train_data_dir)\n",
    "\n",
    "print(\"List of classes:\", classes)\n"
   ]
  },
  {
   "cell_type": "code",
   "execution_count": 5,
   "metadata": {},
   "outputs": [
    {
     "name": "stdout",
     "output_type": "stream",
     "text": [
      "Training set counts:\n",
      "Blight: 802 images\n",
      "Common_Rust: 914 images\n",
      "Gray_Leaf_Spot: 401 images\n",
      "Healthy: 813 images\n",
      "\n",
      "Validation set counts:\n",
      "Blight: 173 images\n",
      "Common_Rust: 197 images\n",
      "Gray_Leaf_Spot: 87 images\n",
      "Healthy: 175 images\n"
     ]
    }
   ],
   "source": [
    "# Count number of images in each class for train and val sets\n",
    "train_counts = {}\n",
    "val_counts = {}\n",
    "\n",
    "for class_name in classes:\n",
    "    train_class_dir = os.path.join(train_data_dir, class_name)\n",
    "    val_class_dir = os.path.join(val_data_dir, class_name)\n",
    "    \n",
    "    train_counts[class_name] = len(os.listdir(train_class_dir))\n",
    "    val_counts[class_name] = len(os.listdir(val_class_dir))\n",
    "\n",
    "print(\"Training set counts:\")\n",
    "for class_name, count in train_counts.items():\n",
    "    print(f\"{class_name}: {count} images\")\n",
    "\n",
    "print(\"\\nValidation set counts:\") \n",
    "for class_name, count in val_counts.items():\n",
    "    print(f\"{class_name}: {count} images\")\n"
   ]
  },
  {
   "cell_type": "markdown",
   "metadata": {},
   "source": [
    "## **Image Preprocessing**"
   ]
  },
  {
   "cell_type": "code",
   "execution_count": 6,
   "metadata": {},
   "outputs": [],
   "source": [
    "# Convert grayscale images to RGB format since our model expects 3-channel input\n",
    "# Grayscale images only have 1 channel, which would cause dimension mismatch errors\n",
    "# This ensures all images have consistent 3-channel RGB format for model training\n",
    "def convert_to_rgb(img):\n",
    "    \"\"\"Convert PIL image to RGB format if it isn't already.\n",
    "    \n",
    "    Args:\n",
    "        img: PIL Image object\n",
    "    \n",
    "    Returns:\n",
    "        PIL Image object in RGB format\n",
    "    \"\"\"\n",
    "    if img.mode != \"RGB\":\n",
    "        img = img.convert(\"RGB\")\n",
    "    return img"
   ]
  },
  {
   "cell_type": "code",
   "execution_count": 7,
   "metadata": {},
   "outputs": [],
   "source": [
    "def get_mean_std(loader):\n",
    "    \"\"\"Computes the mean and standard deviation of image data.\n",
    "\n",
    "    Input: a `DataLoader` producing tensors of shape [batch_size, channels, pixels_x, pixels_y]\n",
    "    Output: the mean of each channel as a tensor, the standard deviation of each channel as a tensor\n",
    "            formatted as a tuple (means[channels], std[channels])\"\"\"\n",
    "\n",
    "    channels_sum, channels_squared_sum, num_batches = 0, 0, 0\n",
    "    for data, _ in tqdm(loader, desc=\"Computing mean and std\", leave=False):\n",
    "        channels_sum += torch.mean(data, dim=[0, 2, 3])\n",
    "        channels_squared_sum += torch.mean(data**2, dim=[0, 2, 3])\n",
    "        num_batches += 1\n",
    "    mean = channels_sum / num_batches\n",
    "    std = (channels_squared_sum / num_batches - mean**2) ** 0.5\n",
    "\n",
    "    return mean, std"
   ]
  },
  {
   "cell_type": "code",
   "execution_count": 8,
   "metadata": {},
   "outputs": [
    {
     "name": "stdout",
     "output_type": "stream",
     "text": [
      "<class 'torchvision.transforms.transforms.Compose'>\n",
      "-----------------\n",
      "Compose(\n",
      "    Lambda()\n",
      "    Resize(size=(224, 224), interpolation=bilinear, max_size=None, antialias=True)\n",
      "    ToTensor()\n",
      ")\n"
     ]
    }
   ],
   "source": [
    "# Resize images to 224x224 to ensure consistent input dimensions for the model (common size for CNNs)\n",
    "# Convert images to tensors to enable GPU acceleration and matrix operations\n",
    "# First create a basic transform to get images to tensor format for mean/std calculation\n",
    "\n",
    "\n",
    "# Final transform with calculated normalization values\n",
    "transform = transforms.Compose([\n",
    "    transforms.Lambda(convert_to_rgb),  # First convert to RGB if needed\n",
    "    transforms.Resize((224, 224)),      # Resize to 224x224\n",
    "    transforms.ToTensor(),              # Convert to tensor\n",
    "])\n",
    "\n",
    "\n",
    "print(type(transform))\n",
    "print(\"-----------------\")\n",
    "print(transform)"
   ]
  },
  {
   "cell_type": "code",
   "execution_count": 9,
   "metadata": {},
   "outputs": [
    {
     "name": "stdout",
     "output_type": "stream",
     "text": [
      "Length of training dataset: 2930\n",
      "Length of validation dataset: 632\n"
     ]
    }
   ],
   "source": [
    "# Create training and validation datasets using ImageFolder with the defined transform\n",
    "training_dataset = datasets.ImageFolder(train_data_dir,transform)\n",
    "val_dataset = datasets.ImageFolder(val_data_dir,transform)\n",
    "print('Length of training dataset:', len(training_dataset))\n",
    "print('Length of validation dataset:', len(val_dataset))"
   ]
  },
  {
   "cell_type": "code",
   "execution_count": 10,
   "metadata": {},
   "outputs": [
    {
     "name": "stdout",
     "output_type": "stream",
     "text": [
      "Computing class counts for training data...\n",
      "Training data counts:\n",
      "Blight            802\n",
      "Common_Rust       914\n",
      "Gray_Leaf_Spot    401\n",
      "Healthy           813\n",
      "dtype: int64\n",
      "\n",
      "Computing class counts for val data...\n",
      "Validation data counts:\n",
      "Blight            173\n",
      "Common_Rust       197\n",
      "Gray_Leaf_Spot     87\n",
      "Healthy           175\n",
      "dtype: int64\n"
     ]
    },
    {
     "data": {
      "image/png": "[encoded data removed]",
      "text/plain": [
       "<Figure size 1800x600 with 2 Axes>"
      ]
     },
     "metadata": {},
     "output_type": "display_data"
    }
   ],
   "source": [
    "# This section analyzes and visualizes the class distribution in our training and validation datasets\n",
    "\n",
    "# Function to count instances of each class in a dataset\n",
    "def class_counts(dataset):\n",
    "    \"\"\"Counts the number of samples per class in a dataset.\n",
    "    \n",
    "    Args:\n",
    "        dataset: A PyTorch Dataset object with class labels\n",
    "        \n",
    "    Returns:\n",
    "        A pandas Series with class names as index and counts as values\n",
    "    \"\"\"\n",
    "    counts = {}\n",
    "    for _, label in dataset:\n",
    "        class_name = dataset.classes[label]  # Get class name from label index\n",
    "        counts[class_name] = counts.get(class_name, 0) + 1  # Increment count\n",
    "    return pd.Series(counts)\n",
    "\n",
    "# Calculate and display class counts for both datasets\n",
    "print(\"Computing class counts for training data...\")\n",
    "train_counts = class_counts(training_dataset)\n",
    "print(\"Training data counts:\")\n",
    "print(train_counts)\n",
    "print(\"\\nComputing class counts for val data...\")\n",
    "val_counts = class_counts(val_dataset)\n",
    "print(\"Validation data counts:\")\n",
    "print(val_counts)\n",
    "\n",
    "# Create visualization comparing class distributions\n",
    "plt.figure(figsize=(18, 6))  # Set figure size\n",
    "\n",
    "# Training data distribution plot\n",
    "plt.subplot(1, 2, 1)  # First subplot\n",
    "ax1 = train_counts.sort_values().plot(\n",
    "    kind='bar',\n",
    "    color='lightgreen',\n",
    "    edgecolor='black',\n",
    "    width=0.8\n",
    ")\n",
    "# Add count labels above bars\n",
    "for p in ax1.patches:\n",
    "    ax1.annotate(str(p.get_height()), \n",
    "                (p.get_x() + p.get_width() / 2., p.get_height()),\n",
    "                ha='center', va='center', \n",
    "                xytext=(0, 5), \n",
    "                textcoords='offset points')\n",
    "plt.xlabel(\"Class Label\", fontsize=12)\n",
    "plt.ylabel(\"Frequency [count]\", fontsize=12)\n",
    "plt.title(\"Training Dataset Class Distribution\", fontsize=14, pad=20)\n",
    "plt.xticks(rotation=45, ha='right')  # Rotate x-axis labels\n",
    "plt.grid(axis='y', alpha=0.3)  # Add light grid lines\n",
    "\n",
    "# Validation data distribution plot\n",
    "plt.subplot(1, 2, 2)  # Second subplot\n",
    "ax2 = val_counts.sort_values().plot(\n",
    "    kind='bar',\n",
    "    color='lightcoral',\n",
    "    edgecolor='black',\n",
    "    width=0.8\n",
    ")\n",
    "# Add count labels above bars\n",
    "for p in ax2.patches:\n",
    "    ax2.annotate(str(p.get_height()), \n",
    "                (p.get_x() + p.get_width() / 2., p.get_height()),\n",
    "                ha='center', va='center', \n",
    "                xytext=(0, 5), \n",
    "                textcoords='offset points')\n",
    "plt.xlabel(\"Class Label\", fontsize=12)\n",
    "plt.ylabel(\"Frequency [count]\", fontsize=12)\n",
    "plt.title(\"Validation Dataset Class Distribution\", fontsize=14, pad=20)\n",
    "plt.xticks(rotation=45, ha='right')  # Rotate x-axis labels\n",
    "plt.grid(axis='y', alpha=0.3)  # Add light grid lines\n",
    "\n",
    "plt.tight_layout()  # Adjust spacing between subplots\n",
    "plt.show()  # Display the figure"
   ]
  },
  {
   "cell_type": "code",
   "execution_count": 11,
   "metadata": {},
   "outputs": [
    {
     "name": "stdout",
     "output_type": "stream",
     "text": [
      "<class 'torch.utils.data.dataloader.DataLoader'>\n",
      "<class 'torch.utils.data.dataloader.DataLoader'>\n"
     ]
    }
   ],
   "source": [
    "# Set batch size for data loading\n",
    "batch_size = 32\n",
    "\n",
    "# Create training data loader with shuffling for better training\n",
    "train_loader = DataLoader(training_dataset, batch_size, shuffle=True)\n",
    "\n",
    "# Create validation data loader without shuffling for consistent evaluation\n",
    "val_loader = DataLoader(val_dataset, batch_size, shuffle=False)\n",
    "\n",
    "# Print types of the created data loaders\n",
    "print(type(train_loader))\n",
    "print(type(val_loader))"
   ]
  },
  {
   "cell_type": "code",
   "execution_count": 12,
   "metadata": {},
   "outputs": [
    {
     "name": "stdout",
     "output_type": "stream",
     "text": [
      "Image batch shape: torch.Size([32, 3, 224, 224]) (batch_size, channels, height, width)\n",
      "Label batch shape: torch.Size([32]) (batch_size,)\n"
     ]
    }
   ],
   "source": [
    "# Get first batch of training data to inspect shapes\n",
    "data_iter = iter(train_loader)\n",
    "images, labels = next(data_iter)\n",
    "\n",
    "# Print image batch shape (batch_size, channels, height, width)\n",
    "print(f\"Image batch shape: {images.shape} (batch_size, channels, height, width)\")\n",
    "\n",
    "# Print label batch shape (batch_size,)\n",
    "print(f\"Label batch shape: {labels.shape} (batch_size,)\")"
   ]
  },
  {
   "cell_type": "markdown",
   "metadata": {},
   "source": [
    "## Model Building -Simple Convolutional Neural Network"
   ]
  },
  {
   "cell_type": "code",
   "execution_count": 13,
   "metadata": {},
   "outputs": [
    {
     "name": "stdout",
     "output_type": "stream",
     "text": [
      "Sequential(\n",
      "  (0): Conv2d(3, 8, kernel_size=(3, 3), stride=(1, 1), padding=(1, 1))\n",
      "  (1): ReLU()\n",
      "  (2): MaxPool2d(kernel_size=2, stride=2, padding=0, dilation=1, ceil_mode=False)\n",
      "  (3): Flatten(start_dim=1, end_dim=-1)\n",
      "  (4): Linear(in_features=100352, out_features=4, bias=True)\n",
      ")\n"
     ]
    }
   ],
   "source": [
    "model = torch.nn.Sequential(\n",
    "    # Minimal convolutional block\n",
    "    nn.Conv2d(3, 8, kernel_size=3, padding=1),  # Reduced channels\n",
    "    nn.ReLU(),\n",
    "    nn.MaxPool2d(2, 2),\n",
    "    \n",
    "    # Single fully-connected layer\n",
    "    nn.Flatten(),\n",
    "    nn.Linear(8 * 112 * 112, 4)  # Direct to output with reduced dimensions\n",
    ")\n",
    "print(model)\n"
   ]
  },
  {
   "cell_type": "markdown",
   "metadata": {},
   "source": [
    "## Training Our Model"
   ]
  },
  {
   "cell_type": "code",
   "execution_count": 14,
   "metadata": {},
   "outputs": [
    {
     "name": "stdout",
     "output_type": "stream",
     "text": [
      "Training Configuration:\n",
      "Loss Function: CrossEntropyLoss()\n",
      "----------------------\n",
      "Optimizer: Adam (\n",
      "Parameter Group 0\n",
      "    amsgrad: False\n",
      "    betas: (0.9, 0.999)\n",
      "    capturable: False\n",
      "    differentiable: False\n",
      "    eps: 1e-08\n",
      "    foreach: None\n",
      "    fused: None\n",
      "    lr: 0.01\n",
      "    maximize: False\n",
      "    weight_decay: 0\n",
      ") (Learning Rate: 0.01)\n"
     ]
    }
   ],
   "source": [
    "# Initialize loss function - CrossEntropyLoss is suitable for multi-class classification\n",
    "# This will measure how well our model's predictions match the true disease labels\n",
    "loss_fn = nn.CrossEntropyLoss()\n",
    "\n",
    "# Set up Adam optimizer with learning rate 0.01 to update model parameters during training\n",
    "# Adam is an adaptive optimizer that adjusts learning rates per-parameter\n",
    "optimizer = optim.Adam(model.parameters(), lr=0.01)\n",
    "\n",
    "# Print details of our training configuration\n",
    "print(\"Training Configuration:\")\n",
    "print(f\"Loss Function: {loss_fn}\")\n",
    "print(\"----------------------\")\n",
    "print(f\"Optimizer: {optimizer} (Learning Rate: 0.01)\")"
   ]
  },
  {
   "cell_type": "code",
   "execution_count": 15,
   "metadata": {},
   "outputs": [
    {
     "data": {
      "text/plain": [
       "==========================================================================================\n",
       "Layer (type:depth-idx)                   Output Shape              Param #\n",
       "==========================================================================================\n",
       "Sequential                               [32, 4]                   --\n",
       "├─Conv2d: 1-1                            [32, 8, 224, 224]         224\n",
       "├─ReLU: 1-2                              [32, 8, 224, 224]         --\n",
       "├─MaxPool2d: 1-3                         [32, 8, 112, 112]         --\n",
       "├─Flatten: 1-4                           [32, 100352]              --\n",
       "├─Linear: 1-5                            [32, 4]                   401,412\n",
       "==========================================================================================\n",
       "Total params: 401,636\n",
       "Trainable params: 401,636\n",
       "Non-trainable params: 0\n",
       "Total mult-adds (Units.MEGABYTES): 372.51\n",
       "==========================================================================================\n",
       "Input size (MB): 19.27\n",
       "Forward/backward pass size (MB): 102.76\n",
       "Params size (MB): 1.61\n",
       "Estimated Total Size (MB): 123.64\n",
       "=========================================================================================="
      ]
     },
     "execution_count": 15,
     "metadata": {},
     "output_type": "execute_result"
    }
   ],
   "source": [
    "# Define input dimensions for the model summary\n",
    "height = 224  # Height of input images in pixels\n",
    "width = 224   # Width of input images in pixels\n",
    "\n",
    "# Generate model summary showing:\n",
    "# - Layer architecture\n",
    "# - Output shapes\n",
    "# - Parameter counts\n",
    "# - Memory usage\n",
    "# Input size format: (batch_size, channels, height, width)\n",
    "summary(model, input_size=(batch_size, 3, height, width))"
   ]
  },
  {
   "cell_type": "code",
   "execution_count": 16,
   "metadata": {},
   "outputs": [
    {
     "name": "stdout",
     "output_type": "stream",
     "text": [
      "Epoch 1/5\n",
      "Train Loss: 3.6033 - Train Acc: 57.44% - Val Loss: 0.7822 - Val Acc: 57.91%\n",
      "Epoch 2/5\n",
      "Train Loss: 0.7992 - Train Acc: 64.37% - Val Loss: 0.7398 - Val Acc: 68.20%\n",
      "Epoch 3/5\n",
      "Train Loss: 0.6938 - Train Acc: 72.08% - Val Loss: 0.7423 - Val Acc: 68.20%\n",
      "Epoch 4/5\n",
      "Train Loss: 0.4320 - Train Acc: 84.16% - Val Loss: 0.5852 - Val Acc: 78.80%\n",
      "Epoch 5/5\n",
      "Train Loss: 0.3074 - Train Acc: 89.22% - Val Loss: 0.7661 - Val Acc: 75.00%\n"
     ]
    }
   ],
   "source": [
    "def train(\n",
    "    model,\n",
    "    optimizer,\n",
    "    loss_fn,\n",
    "    train_loader,\n",
    "    val_loader,\n",
    "    epochs=5,\n",
    "    device='cpu',\n",
    "    use_train_accuracy=True,\n",
    "):\n",
    "    \"\"\"Train a PyTorch model and validate its performance.\n",
    "    \n",
    "    Args:\n",
    "        model: The neural network model to train\n",
    "        optimizer: Optimization algorithm (e.g., Adam)\n",
    "        loss_fn: Loss function (e.g., CrossEntropyLoss)\n",
    "        train_loader: DataLoader for training data\n",
    "        val_loader: DataLoader for validation data\n",
    "        epochs: Number of training iterations (default: 5)\n",
    "        device: Device to train on ('cpu' or 'cuda')\n",
    "        use_train_accuracy: Whether to compute training accuracy (default: True)\n",
    "    \n",
    "    Returns:\n",
    "        Tuple of lists containing training/validation losses and accuracies\n",
    "    \"\"\"\n",
    "    # Move model to specified device (CPU/GPU)\n",
    "    model.to(device)\n",
    "    \n",
    "    # Initialize lists to track performance metrics\n",
    "    train_losses = []  # Training loss per epoch\n",
    "    val_losses = []    # Validation loss per epoch\n",
    "    train_accuracies = []  # Training accuracy per epoch\n",
    "    val_accuracies = []    # Validation accuracy per epoch\n",
    "    \n",
    "    # Training loop over specified number of epochs\n",
    "    for epoch in range(epochs):\n",
    "        # --- TRAINING PHASE ---\n",
    "        model.train()  # Set model to training mode\n",
    "        train_loss = 0.0\n",
    "        correct_train = 0\n",
    "        total_train = 0\n",
    "        \n",
    "        # Iterate over training batches\n",
    "        for inputs, labels in train_loader:\n",
    "            # Move data to device\n",
    "            inputs, labels = inputs.to(device), labels.to(device)\n",
    "            \n",
    "            # Reset gradients\n",
    "            optimizer.zero_grad()\n",
    "            \n",
    "            # Forward pass\n",
    "            outputs = model(inputs)\n",
    "            # Calculate loss\n",
    "            loss = loss_fn(outputs, labels)\n",
    "            # Backward pass (compute gradients)\n",
    "            loss.backward()\n",
    "            # Update weights\n",
    "            optimizer.step()\n",
    "            \n",
    "            # Accumulate loss\n",
    "            train_loss += loss.item()\n",
    "            \n",
    "            # Calculate training accuracy if enabled\n",
    "            if use_train_accuracy:\n",
    "                _, predicted = torch.max(outputs.data, 1)  # Get predicted class\n",
    "                total_train += labels.size(0)  # Total samples in batch\n",
    "                correct_train += (predicted == labels).sum().item()  # Correct predictions\n",
    "        \n",
    "        # --- VALIDATION PHASE ---\n",
    "        model.eval()  # Set model to evaluation mode\n",
    "        val_loss = 0.0\n",
    "        correct_val = 0\n",
    "        total_val = 0\n",
    "        \n",
    "        # Disable gradient calculation for validation\n",
    "        with torch.no_grad():\n",
    "            for inputs, labels in val_loader:\n",
    "                inputs, labels = inputs.to(device), labels.to(device)\n",
    "                \n",
    "                # Forward pass\n",
    "                outputs = model(inputs)\n",
    "                # Calculate loss\n",
    "                loss = loss_fn(outputs, labels)\n",
    "                val_loss += loss.item()\n",
    "                \n",
    "                # Calculate validation accuracy\n",
    "                _, predicted = torch.max(outputs.data, 1)\n",
    "                total_val += labels.size(0)\n",
    "                correct_val += (predicted == labels).sum().item()\n",
    "        \n",
    "        # --- METRICS CALCULATION ---\n",
    "        # Average losses over all batches\n",
    "        train_loss /= len(train_loader)\n",
    "        val_loss /= len(val_loader)\n",
    "        train_losses.append(train_loss)\n",
    "        val_losses.append(val_loss)\n",
    "        \n",
    "        # Calculate accuracies (percentage)\n",
    "        if use_train_accuracy:\n",
    "            train_acc = 100 * correct_train / total_train\n",
    "            train_accuracies.append(train_acc)\n",
    "        val_acc = 100 * correct_val / total_val\n",
    "        val_accuracies.append(val_acc)\n",
    "        \n",
    "        # Print epoch statistics\n",
    "        print(f'Epoch {epoch+1}/{epochs}')\n",
    "        print(f'Train Loss: {train_loss:.4f}', end=' ')\n",
    "        if use_train_accuracy:\n",
    "            print(f'- Train Acc: {train_acc:.2f}%', end=' ')\n",
    "        print(f'- Val Loss: {val_loss:.4f} - Val Acc: {val_acc:.2f}%')\n",
    "    \n",
    "    return train_losses, val_losses, train_accuracies, val_accuracies\n",
    "\n",
    "# Execute training with default 5 epochs\n",
    "train_losses, val_losses, train_accuracies, val_accuracies = train(\n",
    "    model, optimizer, loss_fn, train_loader, val_loader, epochs=5\n",
    ")\n"
   ]
  },
  {
   "cell_type": "markdown",
   "metadata": {},
   "source": [
    "### **Model Evalutions**"
   ]
  },
  {
   "cell_type": "code",
   "execution_count": 17,
   "metadata": {},
   "outputs": [
    {
     "data": {
      "image/png": "[encoded data removed]",
      "text/plain": [
       "<Figure size 1200x500 with 2 Axes>"
      ]
     },
     "metadata": {},
     "output_type": "display_data"
    }
   ],
   "source": [
    "\n",
    "plt.figure(figsize=(12, 5))\n",
    "\n",
    "plt.subplot(1, 2, 1)\n",
    "plt.plot(train_losses, label=\"Training Loss\")\n",
    "plt.plot(val_losses, label=\"Validation Loss\")\n",
    "plt.title(\"Loss over epochs\")\n",
    "plt.xlabel(\"Epochs\")\n",
    "plt.ylabel(\"Loss\")\n",
    "plt.legend()\n",
    "\n",
    "plt.subplot(1, 2, 2)\n",
    "plt.plot(train_accuracies, label=\"Training Accuracy\")\n",
    "plt.plot(val_accuracies, label=\"Validation Accuracy\")\n",
    "plt.title(\"Accuracy over epochs\")\n",
    "plt.xlabel(\"Epochs\")\n",
    "plt.ylabel(\"Accuracy\")\n",
    "plt.legend()\n",
    "\n",
    "plt.show()"
   ]
  },
  {
   "cell_type": "markdown",
   "metadata": {},
   "source": [
    "### Overall Assessment\n",
    "**Overfitting**: The graphs indicate a significant divergence between training and validation metrics, suggesting potential overfitting. The model shows strong performance on the training data, but validation accuracy plateaus while training accuracy continues to improve.\n",
    "\n",
    "### Next Steps:\n",
    "1. **Regularization**: Implement techniques such as dropout or L2 regularization to help mitigate overfitting.\n",
    "2. **Data Augmentation**: Introduce data augmentation strategies to enhance the diversity of the training dataset, which may improve generalization.\n",
    "3. **Early Stopping**: Consider using early stopping based on validation loss to halt training when performance on the validation set begins to degrade.\n",
    "4. **Hyperparameter Tuning**: Explore different learning rates, batch sizes, and model architectures to optimize performance.\n"
   ]
  },
  {
   "cell_type": "code",
   "execution_count": 18,
   "metadata": {},
   "outputs": [
    {
     "name": "stdout",
     "output_type": "stream",
     "text": [
      "tensor([0, 0, 0, 0, 2, 0, 0, 0, 0, 0, 3, 0, 0, 0, 3, 3, 1, 1, 0, 3, 0, 3, 3, 1,\n",
      "        3, 3, 0, 0, 0, 3, 0, 0, 0, 0, 0, 0, 0, 2, 0, 0, 3, 3, 3, 0, 0, 0, 0, 0,\n",
      "        3, 3, 2, 0, 0, 0, 0, 0, 0, 3, 0, 0, 0, 3, 0, 0, 3, 3, 0, 3, 2, 0, 0, 3,\n",
      "        2, 0, 0, 0, 0, 0, 2, 0, 0, 2, 3, 0, 0, 0, 0, 3, 0, 0, 0, 3, 3, 0, 0, 3,\n",
      "        0, 3, 0, 0, 0, 0, 0, 3, 2, 0, 3, 0, 3, 0, 0, 0, 0, 0, 3, 0, 0, 3, 0, 3,\n",
      "        3, 0, 0, 0, 0, 3, 3, 0, 0, 3, 0, 2, 3, 3, 0, 3, 2, 0, 0, 2, 0, 0, 0, 1,\n",
      "        3, 3, 0, 0, 0, 0, 0, 3, 0, 0, 0, 3, 2, 3, 0, 0, 3, 0, 0, 3, 0, 3, 3, 3,\n",
      "        3, 0, 0, 2, 3, 1, 1, 1, 1, 1, 1, 1, 1, 3, 1, 1, 1, 1, 1, 1, 1, 1, 1, 1,\n",
      "        1, 1, 1, 1, 1, 1, 1, 1, 1, 1, 1, 1, 1, 1, 1, 1, 1, 1, 1, 1, 1, 1, 1, 1,\n",
      "        1, 1, 1, 1, 1, 0, 3, 3, 1, 3, 3, 1, 1, 1, 1, 1, 1, 1, 1, 1, 1, 1, 1, 1,\n",
      "        1, 1, 1, 1, 1, 1, 3, 1, 1, 1, 1, 1, 1, 1, 1, 0, 1, 1, 1, 1, 1, 1, 1, 1,\n",
      "        1, 1, 1, 1, 1, 0, 1, 1, 1, 1, 1, 1, 1, 1, 1, 1, 1, 1, 1, 1, 1, 3, 1, 1,\n",
      "        1, 1, 1, 1, 1, 1, 1, 1, 1, 1, 1, 1, 1, 1, 1, 1, 1, 1, 1, 1, 1, 1, 1, 1,\n",
      "        1, 1, 1, 1, 3, 1, 1, 1, 1, 1, 1, 1, 1, 1, 1, 1, 1, 1, 1, 1, 1, 1, 1, 1,\n",
      "        1, 1, 1, 1, 1, 1, 1, 1, 1, 1, 1, 1, 1, 1, 1, 1, 1, 1, 1, 1, 1, 1, 1, 1,\n",
      "        1, 1, 1, 1, 1, 1, 1, 1, 1, 1, 0, 0, 0, 0, 0, 0, 0, 0, 0, 0, 0, 2, 2, 0,\n",
      "        0, 0, 1, 2, 0, 2, 0, 2, 3, 0, 0, 0, 0, 0, 0, 3, 3, 0, 0, 0, 0, 0, 2, 0,\n",
      "        0, 3, 0, 3, 0, 0, 0, 0, 2, 0, 0, 2, 0, 2, 2, 0, 0, 3, 0, 2, 0, 3, 0, 0,\n",
      "        3, 0, 0, 0, 3, 2, 0, 0, 0, 0, 0, 0, 0, 3, 0, 3, 3, 0, 0, 0, 0, 3, 2, 0,\n",
      "        0, 3, 3, 3, 3, 3, 3, 3, 3, 3, 3, 3, 3, 3, 3, 3, 3, 3, 3, 3, 3, 3, 3, 3,\n",
      "        3, 3, 3, 3, 3, 3, 3, 3, 3, 3, 3, 3, 3, 3, 3, 3, 3, 3, 3, 3, 0, 3, 3, 3,\n",
      "        3, 3, 3, 3, 3, 3, 3, 3, 3, 3, 3, 3, 3, 3, 3, 3, 3, 3, 3, 1, 3, 3, 3, 3,\n",
      "        3, 3, 3, 3, 3, 3, 3, 3, 3, 3, 3, 3, 3, 3, 3, 3, 3, 3, 3, 3, 3, 3, 3, 3,\n",
      "        3, 3, 3, 3, 3, 3, 3, 3, 3, 3, 3, 3, 3, 3, 3, 3, 3, 3, 3, 0, 3, 3, 3, 3,\n",
      "        3, 3, 3, 3, 3, 3, 3, 3, 3, 3, 3, 3, 3, 3, 3, 3, 3, 3, 3, 3, 0, 3, 3, 3,\n",
      "        3, 3, 3, 3, 3, 3, 3, 3, 3, 3, 3, 3, 3, 3, 3, 3, 3, 3, 3, 3, 3, 3, 3, 0,\n",
      "        3, 3, 3, 3, 3, 3, 3, 3])\n"
     ]
    }
   ],
   "source": [
    "def predict(model, data_loader):\n",
    "    model.eval()\n",
    "    all_probs = []\n",
    "    with torch.no_grad():\n",
    "        for images, _ in data_loader:\n",
    "            outputs = model(images)\n",
    "            probs = torch.softmax(outputs, dim=1)\n",
    "            all_probs.append(probs)\n",
    "    return torch.cat(all_probs, dim=0)\n",
    "\n",
    "probabilities_val = predict(model, val_loader)\n",
    "predictions_val = torch.argmax(probabilities_val, dim=1)\n",
    "\n",
    "print(predictions_val)"
   ]
  },
  {
   "cell_type": "code",
   "execution_count": 19,
   "metadata": {},
   "outputs": [
    {
     "name": "stderr",
     "output_type": "stream",
     "text": [
      "Get Labels: 100%|██████████| 20/20 [00:01<00:00, 10.15it/s]\n"
     ]
    }
   ],
   "source": [
    "targets_val = torch.cat(\n",
    "    [labels for _, labels in tqdm(val_loader, desc=\"Get Labels\")]\n",
    ")"
   ]
  },
  {
   "cell_type": "code",
   "execution_count": 20,
   "metadata": {},
   "outputs": [
    {
     "data": {
      "text/plain": [
       "<Figure size 1000x800 with 0 Axes>"
      ]
     },
     "metadata": {},
     "output_type": "display_data"
    },
    {
     "data": {
      "image/png": "[encoded data removed]",
      "text/plain": [
       "<Figure size 640x480 with 2 Axes>"
      ]
     },
     "metadata": {},
     "output_type": "display_data"
    }
   ],
   "source": [
    "cm = confusion_matrix(targets_val.cpu(), predictions_val.cpu())\n",
    "\n",
    "disp = ConfusionMatrixDisplay(confusion_matrix=cm, display_labels=classes)\n",
    "\n",
    "# Set figure size\n",
    "plt.figure(figsize=(10, 8))\n",
    "\n",
    "disp.plot(cmap=plt.cm.Blues, xticks_rotation=\"vertical\")\n",
    "plt.show()"
   ]
  },
  {
   "cell_type": "code",
   "execution_count": 21,
   "metadata": {},
   "outputs": [
    {
     "name": "stdout",
     "output_type": "stream",
     "text": [
      "                precision    recall  f1-score   support\n",
      "\n",
      "        Blight       0.61      0.61      0.61       173\n",
      "   Common_Rust       0.97      0.94      0.96       197\n",
      "Gray_Leaf_Spot       0.50      0.15      0.23        87\n",
      "       Healthy       0.70      0.97      0.82       175\n",
      "\n",
      "      accuracy                           0.75       632\n",
      "     macro avg       0.70      0.67      0.65       632\n",
      "  weighted avg       0.73      0.75      0.72       632\n",
      "\n"
     ]
    }
   ],
   "source": [
    "# Generate classification report\n",
    "report = classification_report(targets_val.cpu(), predictions_val.cpu(), target_names=classes)\n",
    "print(report)\n"
   ]
  },
  {
   "cell_type": "markdown",
   "metadata": {},
   "source": [
    "## Submission to Hackathon"
   ]
  },
  {
   "cell_type": "code",
   "execution_count": 32,
   "metadata": {},
   "outputs": [
    {
     "name": "stdout",
     "output_type": "stream",
     "text": [
      "crop pictures\\test\n"
     ]
    }
   ],
   "source": [
    "# Define the directory for test images\n",
    "test_dir = os.path.join('crop pictures', 'test')\n",
    "\n",
    "# Print the test directory path\n",
    "print(test_dir)"
   ]
  },
  {
   "cell_type": "code",
   "execution_count": 34,
   "metadata": {},
   "outputs": [],
   "source": [
    "# Define a function to get the confidence scores for a given image file\n",
    "def file_to_confidence(model, datadir, filename, transform_pipeline):\n",
    "    # Construct the full file path for the image\n",
    "    file_path = os.path.join(datadir, filename)\n",
    "    # Open the image file\n",
    "    image = PIL.Image.open(file_path)\n",
    "    # Apply the transformation pipeline to the image\n",
    "    transformed = transform_pipeline(image)\n",
    "    # Add a batch dimension to the transformed image\n",
    "    unsqueezed = transformed.unsqueeze(0)\n",
    "    # Move the image tensor to the appropriate device (CPU or GPU)\n",
    "    image_cuda = unsqueezed.to(device)\n",
    "\n",
    "    # Set the model to evaluation mode\n",
    "    model.eval()\n",
    "    # Disable gradient calculation for inference\n",
    "    with torch.no_grad():\n",
    "        # Get the raw output from the model\n",
    "        model_raw = model(image_cuda)\n",
    "        # Apply softmax to get confidence scores for each class\n",
    "        confidence = torch.nn.functional.softmax(model_raw, dim=1)\n",
    "\n",
    "    # Create a DataFrame to store the filename and confidence scores\n",
    "    conf_df = pd.DataFrame([[filename] + confidence.tolist()[0]])\n",
    "    # Set the column names to include the image ID and class names\n",
    "    conf_df.columns = [\"ID\"] + training_dataset.classes\n",
    "\n",
    "    # Return the DataFrame containing the confidence scores\n",
    "    return conf_df"
   ]
  },
  {
   "cell_type": "code",
   "execution_count": 35,
   "metadata": {},
   "outputs": [
    {
     "data": {
      "text/html": [
       "<div>\n",
       "<style scoped>\n",
       "    .dataframe tbody tr th:only-of-type {\n",
       "        vertical-align: middle;\n",
       "    }\n",
       "\n",
       "    .dataframe tbody tr th {\n",
       "        vertical-align: top;\n",
       "    }\n",
       "\n",
       "    .dataframe thead th {\n",
       "        text-align: right;\n",
       "    }\n",
       "</style>\n",
       "<table border=\"1\" class=\"dataframe\">\n",
       "  <thead>\n",
       "    <tr style=\"text-align: right;\">\n",
       "      <th></th>\n",
       "      <th>ID</th>\n",
       "      <th>Blight</th>\n",
       "      <th>Common_Rust</th>\n",
       "      <th>Gray_Leaf_Spot</th>\n",
       "      <th>Healthy</th>\n",
       "    </tr>\n",
       "  </thead>\n",
       "  <tbody>\n",
       "    <tr>\n",
       "      <th>0</th>\n",
       "      <td>Corn_Blight (1007).JPG</td>\n",
       "      <td>0.66647</td>\n",
       "      <td>0.05302</td>\n",
       "      <td>0.13480</td>\n",
       "      <td>0.14572</td>\n",
       "    </tr>\n",
       "  </tbody>\n",
       "</table>\n",
       "</div>"
      ],
      "text/plain": [
       "                       ID  Blight  Common_Rust  Gray_Leaf_Spot  Healthy\n",
       "0  Corn_Blight (1007).JPG 0.66647      0.05302         0.13480  0.14572"
      ]
     },
     "execution_count": 35,
     "metadata": {},
     "output_type": "execute_result"
    }
   ],
   "source": [
    "# This section retrieves the directory of blight training images and gets the confidence score for a specific image.\n",
    "blight_train_dir = os.path.join('crop pictures','train','blight')\n",
    "blight_images = os.listdir(blight_train_dir)\n",
    "\n",
    "file_to_confidence(model, blight_train_dir, blight_images[7], transform)"
   ]
  },
  {
   "cell_type": "code",
   "execution_count": 37,
   "metadata": {},
   "outputs": [
    {
     "name": "stderr",
     "output_type": "stream",
     "text": [
      "Predicting on test set: 100%|██████████| 626/626 [00:03<00:00, 165.67it/s]\n"
     ]
    },
    {
     "data": {
      "text/html": [
       "<div>\n",
       "<style scoped>\n",
       "    .dataframe tbody tr th:only-of-type {\n",
       "        vertical-align: middle;\n",
       "    }\n",
       "\n",
       "    .dataframe tbody tr th {\n",
       "        vertical-align: top;\n",
       "    }\n",
       "\n",
       "    .dataframe thead th {\n",
       "        text-align: right;\n",
       "    }\n",
       "</style>\n",
       "<table border=\"1\" class=\"dataframe\">\n",
       "  <thead>\n",
       "    <tr style=\"text-align: right;\">\n",
       "      <th></th>\n",
       "      <th>ID</th>\n",
       "      <th>Blight</th>\n",
       "      <th>Common_Rust</th>\n",
       "      <th>Gray_Leaf_Spot</th>\n",
       "      <th>Healthy</th>\n",
       "    </tr>\n",
       "  </thead>\n",
       "  <tbody>\n",
       "    <tr>\n",
       "      <th>0</th>\n",
       "      <td>image_000001.jpg</td>\n",
       "      <td>0.73140</td>\n",
       "      <td>0.01391</td>\n",
       "      <td>0.23257</td>\n",
       "      <td>0.02212</td>\n",
       "    </tr>\n",
       "    <tr>\n",
       "      <th>1</th>\n",
       "      <td>image_000002.JPG</td>\n",
       "      <td>0.00108</td>\n",
       "      <td>0.00085</td>\n",
       "      <td>0.00012</td>\n",
       "      <td>0.99795</td>\n",
       "    </tr>\n",
       "    <tr>\n",
       "      <th>2</th>\n",
       "      <td>image_000003.JPG</td>\n",
       "      <td>0.00000</td>\n",
       "      <td>1.00000</td>\n",
       "      <td>0.00000</td>\n",
       "      <td>0.00000</td>\n",
       "    </tr>\n",
       "    <tr>\n",
       "      <th>3</th>\n",
       "      <td>image_000004.JPG</td>\n",
       "      <td>0.26471</td>\n",
       "      <td>0.03529</td>\n",
       "      <td>0.06836</td>\n",
       "      <td>0.63164</td>\n",
       "    </tr>\n",
       "    <tr>\n",
       "      <th>4</th>\n",
       "      <td>image_000005.JPG</td>\n",
       "      <td>0.00045</td>\n",
       "      <td>0.00035</td>\n",
       "      <td>0.00012</td>\n",
       "      <td>0.99908</td>\n",
       "    </tr>\n",
       "  </tbody>\n",
       "</table>\n",
       "</div>"
      ],
      "text/plain": [
       "                 ID  Blight  Common_Rust  Gray_Leaf_Spot  Healthy\n",
       "0  image_000001.jpg 0.73140      0.01391         0.23257  0.02212\n",
       "1  image_000002.JPG 0.00108      0.00085         0.00012  0.99795\n",
       "2  image_000003.JPG 0.00000      1.00000         0.00000  0.00000\n",
       "3  image_000004.JPG 0.26471      0.03529         0.06836  0.63164\n",
       "4  image_000005.JPG 0.00045      0.00035         0.00012  0.99908"
      ]
     },
     "execution_count": 37,
     "metadata": {},
     "output_type": "execute_result"
    }
   ],
   "source": [
    "# Convert scientific notation to standard decimals\n",
    "pd.set_option('display.float_format', lambda x: '%.5f' % x)\n",
    "\n",
    "# Final prediction to hackathon\n",
    "small_dfs = []\n",
    "\n",
    "for filename in tqdm(os.listdir(test_dir), desc=\"Predicting on test set\"):\n",
    "    small_dfs.append(\n",
    "        file_to_confidence(model, test_dir, filename, transform)\n",
    "    )\n",
    "\n",
    "confidence_df = pd.concat(small_dfs)\n",
    "\n",
    "confidence_df = confidence_df.sort_values(\"ID\").reset_index(drop=True)\n",
    "confidence_df.head()"
   ]
  },
  {
   "cell_type": "code",
   "execution_count": null,
   "metadata": {},
   "outputs": [],
   "source": [
    "confidence_df.to_csv(\"submission.csv\", index=False)"
   ]
  }
 ],
 "metadata": {
  "kernelspec": {
   "display_name": "Python 3",
   "language": "python",
   "name": "python3"
  },
  "language_info": {
   "codemirror_mode": {
    "name": "ipython",
    "version": 3
   },
   "file_extension": ".py",
   "mimetype": "text/x-python",
   "name": "python",
   "nbconvert_exporter": "python",
   "pygments_lexer": "ipython3",
   "version": "3.11.0"
  }
 },
 "nbformat": 4,
 "nbformat_minor": 2
}
