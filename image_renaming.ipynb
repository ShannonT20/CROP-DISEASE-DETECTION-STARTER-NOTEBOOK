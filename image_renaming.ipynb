{
 "cells": [
  {
   "cell_type": "code",
   "execution_count": 5,
   "metadata": {},
   "outputs": [
    {
     "name": "stdout",
     "output_type": "stream",
     "text": [
      "Ground truth CSV created with new image IDs\n"
     ]
    }
   ],
   "source": [
    "import os\n",
    "import shutil\n",
    "import random\n",
    "import pandas as pd\n",
    "\n",
    "def rename_images(source_dir, dest_dir):\n",
    "    # Create destination directory if it doesn't exist\n",
    "    if not os.path.exists(dest_dir):\n",
    "        os.makedirs(dest_dir)\n",
    "    \n",
    "    # Get all image files with their original class info\n",
    "    image_data = []\n",
    "    for root, dirs, files in os.walk(source_dir):\n",
    "        class_name = os.path.basename(root)\n",
    "        if class_name == os.path.basename(source_dir):  # Skip root dir\n",
    "            continue\n",
    "            \n",
    "        for file in files:\n",
    "            if file.lower().endswith(('.png', '.jpg', '.jpeg', '.bmp', '.gif')):\n",
    "                image_data.append({\n",
    "                    'path': os.path.join(root, file),\n",
    "                    'class': class_name\n",
    "                })\n",
    "    \n",
    "    # Shuffle the files for random numbering\n",
    "    random.shuffle(image_data)\n",
    "    \n",
    "    # Initialize ground truth data\n",
    "    ground_truth = []\n",
    "    \n",
    "    # Process files with random numbering\n",
    "    for idx, data in enumerate(image_data, 1):\n",
    "        src_path = data['path']\n",
    "        class_name = data['class']\n",
    "        \n",
    "        # Get file extension\n",
    "        ext = os.path.splitext(src_path)[1]\n",
    "        \n",
    "        # Create new filename with 6-digit zero padding\n",
    "        new_name = f\"image_{idx:06d}{ext}\"\n",
    "        dest_path = os.path.join(dest_dir, new_name)\n",
    "        \n",
    "        # Copy file with new name\n",
    "        shutil.copy2(src_path, dest_path)\n",
    "        \n",
    "        # Add to ground truth\n",
    "        ground_truth.append({\n",
    "            'ID': new_name,\n",
    "            'True_Label': class_name\n",
    "        })\n",
    "    \n",
    "    # Create and save ground truth CSV\n",
    "    ground_truth_df = pd.DataFrame(ground_truth)\n",
    "    ground_truth_df.to_csv(os.path.join(dest_dir, 'ground_truth.csv'), index=False)\n",
    "    print(\"Ground truth CSV created with new image IDs\")\n",
    "\n",
    "# Define source and destination paths\n",
    "source_path = 'crop pictures/val'\n",
    "dest_path = 'crop pictures/val_updated'\n",
    "\n",
    "# Call the function\n",
    "rename_images(source_path, dest_path)\n"
   ]
  }
 ],
 "metadata": {
  "kernelspec": {
   "display_name": "Python 3",
   "language": "python",
   "name": "python3"
  },
  "language_info": {
   "codemirror_mode": {
    "name": "ipython",
    "version": 3
   },
   "file_extension": ".py",
   "mimetype": "text/x-python",
   "name": "python",
   "nbconvert_exporter": "python",
   "pygments_lexer": "ipython3",
   "version": "3.11.0"
  }
 },
 "nbformat": 4,
 "nbformat_minor": 2
}
